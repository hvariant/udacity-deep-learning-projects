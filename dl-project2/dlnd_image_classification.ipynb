{
 "cells": [
  {
   "cell_type": "markdown",
   "metadata": {
    "collapsed": true
   },
   "source": [
    "# Image Classification\n",
    "In this project, you'll classify images from the [CIFAR-10 dataset](https://www.cs.toronto.edu/~kriz/cifar.html).  The dataset consists of airplanes, dogs, cats, and other objects. You'll preprocess the images, then train a convolutional neural network on all the samples. The images need to be normalized and the labels need to be one-hot encoded.  You'll get to apply what you learned and build a convolutional, max pooling, dropout, and fully connected layers.  At the end, you'll get to see your neural network's predictions on the sample images.\n",
    "## Get the Data\n",
    "Run the following cell to download the [CIFAR-10 dataset for python](https://www.cs.toronto.edu/~kriz/cifar-10-python.tar.gz)."
   ]
  },
  {
   "cell_type": "code",
   "execution_count": 1,
   "metadata": {},
   "outputs": [
    {
     "name": "stdout",
     "output_type": "stream",
     "text": [
      "All files found!\n"
     ]
    }
   ],
   "source": [
    "\"\"\"\n",
    "DON'T MODIFY ANYTHING IN THIS CELL THAT IS BELOW THIS LINE\n",
    "\"\"\"\n",
    "from urllib.request import urlretrieve\n",
    "from os.path import isfile, isdir\n",
    "from tqdm import tqdm\n",
    "import problem_unittests as tests\n",
    "import tarfile\n",
    "\n",
    "cifar10_dataset_folder_path = 'cifar-10-batches-py'\n",
    "\n",
    "# Use Floyd's cifar-10 dataset if present\n",
    "floyd_cifar10_location = '/input/cifar-10/python.tar.gz'\n",
    "if isfile(floyd_cifar10_location):\n",
    "    tar_gz_path = floyd_cifar10_location\n",
    "else:\n",
    "    tar_gz_path = 'cifar-10-python.tar.gz'\n",
    "\n",
    "class DLProgress(tqdm):\n",
    "    last_block = 0\n",
    "\n",
    "    def hook(self, block_num=1, block_size=1, total_size=None):\n",
    "        self.total = total_size\n",
    "        self.update((block_num - self.last_block) * block_size)\n",
    "        self.last_block = block_num\n",
    "\n",
    "if not isfile(tar_gz_path):\n",
    "    with DLProgress(unit='B', unit_scale=True, miniters=1, desc='CIFAR-10 Dataset') as pbar:\n",
    "        urlretrieve(\n",
    "            'https://www.cs.toronto.edu/~kriz/cifar-10-python.tar.gz',\n",
    "            tar_gz_path,\n",
    "            pbar.hook)\n",
    "\n",
    "if not isdir(cifar10_dataset_folder_path):\n",
    "    with tarfile.open(tar_gz_path) as tar:\n",
    "        tar.extractall()\n",
    "        tar.close()\n",
    "\n",
    "\n",
    "tests.test_folder_path(cifar10_dataset_folder_path)"
   ]
  },
  {
   "cell_type": "markdown",
   "metadata": {},
   "source": [
    "## Explore the Data\n",
    "The dataset is broken into batches to prevent your machine from running out of memory.  The CIFAR-10 dataset consists of 5 batches, named `data_batch_1`, `data_batch_2`, etc.. Each batch contains the labels and images that are one of the following:\n",
    "* airplane\n",
    "* automobile\n",
    "* bird\n",
    "* cat\n",
    "* deer\n",
    "* dog\n",
    "* frog\n",
    "* horse\n",
    "* ship\n",
    "* truck\n",
    "\n",
    "Understanding a dataset is part of making predictions on the data.  Play around with the code cell below by changing the `batch_id` and `sample_id`. The `batch_id` is the id for a batch (1-5). The `sample_id` is the id for a image and label pair in the batch.\n",
    "\n",
    "Ask yourself \"What are all possible labels?\", \"What is the range of values for the image data?\", \"Are the labels in order or random?\".  Answers to questions like these will help you preprocess the data and end up with better predictions."
   ]
  },
  {
   "cell_type": "code",
   "execution_count": 2,
   "metadata": {},
   "outputs": [
    {
     "name": "stdout",
     "output_type": "stream",
     "text": [
      "\n",
      "Stats of batch 1:\n",
      "Samples: 10000\n",
      "Label Counts: {0: 1005, 1: 974, 2: 1032, 3: 1016, 4: 999, 5: 937, 6: 1030, 7: 1001, 8: 1025, 9: 981}\n",
      "First 20 Labels: [6, 9, 9, 4, 1, 1, 2, 7, 8, 3, 4, 7, 7, 2, 9, 9, 9, 3, 2, 6]\n",
      "\n",
      "Example of Image 77:\n",
      "Image - Min Value: 19 Max Value: 250\n",
      "Image - Shape: (32, 32, 3)\n",
      "Label - Label Id: 0 Name: airplane\n"
     ]
    },
    {
     "data": {
      "image/png": "[encoded data removed]",
      "text/plain": [
       "<matplotlib.figure.Figure at 0x7fa49485e208>"
      ]
     },
     "metadata": {
      "image/png": {
       "height": 250,
       "width": 253
      }
     },
     "output_type": "display_data"
    }
   ],
   "source": [
    "%matplotlib inline\n",
    "%config InlineBackend.figure_format = 'retina'\n",
    "\n",
    "import helper\n",
    "import numpy as np\n",
    "\n",
    "# Explore the dataset\n",
    "batch_id = 1\n",
    "sample_id = 77\n",
    "helper.display_stats(cifar10_dataset_folder_path, batch_id, sample_id)"
   ]
  },
  {
   "cell_type": "markdown",
   "metadata": {},
   "source": [
    "## Implement Preprocess Functions\n",
    "### Normalize\n",
    "In the cell below, implement the `normalize` function to take in image data, `x`, and return it as a normalized Numpy array. The values should be in the range of 0 to 1, inclusive.  The return object should be the same shape as `x`."
   ]
  },
  {
   "cell_type": "code",
   "execution_count": 3,
   "metadata": {},
   "outputs": [
    {
     "name": "stdout",
     "output_type": "stream",
     "text": [
      "Tests Passed\n"
     ]
    }
   ],
   "source": [
    "def normalize(x):\n",
    "    \"\"\"\n",
    "    Normalize a list of sample image data in the range of 0 to 1\n",
    "    : x: List of image data.  The image shape is (32, 32, 3)\n",
    "    : return: Numpy array of normalize data\n",
    "    \"\"\"\n",
    "    # DONE: Implement Function \n",
    "    return x[:,:,:,:] / 255.0\n",
    "\n",
    "\n",
    "\"\"\"\n",
    "DON'T MODIFY ANYTHING IN THIS CELL THAT IS BELOW THIS LINE\n",
    "\"\"\"\n",
    "tests.test_normalize(normalize)"
   ]
  },
  {
   "cell_type": "markdown",
   "metadata": {},
   "source": [
    "### One-hot encode\n",
    "Just like the previous code cell, you'll be implementing a function for preprocessing.  This time, you'll implement the `one_hot_encode` function. The input, `x`, are a list of labels.  Implement the function to return the list of labels as One-Hot encoded Numpy array.  The possible values for labels are 0 to 9. The one-hot encoding function should return the same encoding for each value between each call to `one_hot_encode`.  Make sure to save the map of encodings outside the function.\n",
    "\n",
    "Hint: Don't reinvent the wheel."
   ]
  },
  {
   "cell_type": "code",
   "execution_count": 4,
   "metadata": {},
   "outputs": [
    {
     "name": "stdout",
     "output_type": "stream",
     "text": [
      "Tests Passed\n"
     ]
    }
   ],
   "source": [
    "def one_hot_encode(x):\n",
    "    \"\"\"\n",
    "    One hot encode a list of sample labels. Return a one-hot encoded vector for each label.\n",
    "    : x: List of sample Labels\n",
    "    : return: Numpy array of one-hot encoded labels\n",
    "    \"\"\"\n",
    "    # DONE: Implement Function\n",
    "    \n",
    "    n = len(x)\n",
    "    y = np.zeros((n,10))\n",
    "    y[np.arange(n), x] = 1\n",
    "    \n",
    "    return y\n",
    "\n",
    "\n",
    "\"\"\"\n",
    "DON'T MODIFY ANYTHING IN THIS CELL THAT IS BELOW THIS LINE\n",
    "\"\"\"\n",
    "tests.test_one_hot_encode(one_hot_encode)"
   ]
  },
  {
   "cell_type": "markdown",
   "metadata": {},
   "source": [
    "### Randomize Data\n",
    "As you saw from exploring the data above, the order of the samples are randomized.  It doesn't hurt to randomize it again, but you don't need to for this dataset."
   ]
  },
  {
   "cell_type": "markdown",
   "metadata": {},
   "source": [
    "## Preprocess all the data and save it\n",
    "Running the code cell below will preprocess all the CIFAR-10 data and save it to file. The code below also uses 10% of the training data for validation."
   ]
  },
  {
   "cell_type": "code",
   "execution_count": 5,
   "metadata": {},
   "outputs": [],
   "source": [
    "\"\"\"\n",
    "DON'T MODIFY ANYTHING IN THIS CELL\n",
    "\"\"\"\n",
    "# Preprocess Training, Validation, and Testing Data\n",
    "helper.preprocess_and_save_data(cifar10_dataset_folder_path, normalize, one_hot_encode)"
   ]
  },
  {
   "cell_type": "markdown",
   "metadata": {},
   "source": [
    "# Check Point\n",
    "This is your first checkpoint.  If you ever decide to come back to this notebook or have to restart the notebook, you can start from here.  The preprocessed data has been saved to disk."
   ]
  },
  {
   "cell_type": "code",
   "execution_count": 6,
   "metadata": {
    "collapsed": true
   },
   "outputs": [],
   "source": [
    "\"\"\"\n",
    "DON'T MODIFY ANYTHING IN THIS CELL\n",
    "\"\"\"\n",
    "import pickle\n",
    "import problem_unittests as tests\n",
    "import helper\n",
    "\n",
    "# Load the Preprocessed Validation data\n",
    "valid_features, valid_labels = pickle.load(open('preprocess_validation.p', mode='rb'))"
   ]
  },
  {
   "cell_type": "markdown",
   "metadata": {},
   "source": [
    "## Build the network\n",
    "For the neural network, you'll build each layer into a function.  Most of the code you've seen has been outside of functions. To test your code more thoroughly, we require that you put each layer in a function.  This allows us to give you better feedback and test for simple mistakes using our unittests before you submit your project.\n",
    "\n",
    ">**Note:** If you're finding it hard to dedicate enough time for this course each week, we've provided a small shortcut to this part of the project. In the next couple of problems, you'll have the option to use classes from the [TensorFlow Layers](https://www.tensorflow.org/api_docs/python/tf/layers) or [TensorFlow Layers (contrib)](https://www.tensorflow.org/api_guides/python/contrib.layers) packages to build each layer, except the layers you build in the \"Convolutional and Max Pooling Layer\" section.  TF Layers is similar to Keras's and TFLearn's abstraction to layers, so it's easy to pickup.\n",
    "\n",
    ">However, if you would like to get the most out of this course, try to solve all the problems _without_ using anything from the TF Layers packages. You **can** still use classes from other packages that happen to have the same name as ones you find in TF Layers! For example, instead of using the TF Layers version of the `conv2d` class, [tf.layers.conv2d](https://www.tensorflow.org/api_docs/python/tf/layers/conv2d), you would want to use the TF Neural Network version of `conv2d`, [tf.nn.conv2d](https://www.tensorflow.org/api_docs/python/tf/nn/conv2d). \n",
    "\n",
    "Let's begin!\n",
    "\n",
    "### Input\n",
    "The neural network needs to read the image data, one-hot encoded labels, and dropout keep probability. Implement the following functions\n",
    "* Implement `neural_net_image_input`\n",
    " * Return a [TF Placeholder](https://www.tensorflow.org/api_docs/python/tf/placeholder)\n",
    " * Set the shape using `image_shape` with batch size set to `None`.\n",
    " * Name the TensorFlow placeholder \"x\" using the TensorFlow `name` parameter in the [TF Placeholder](https://www.tensorflow.org/api_docs/python/tf/placeholder).\n",
    "* Implement `neural_net_label_input`\n",
    " * Return a [TF Placeholder](https://www.tensorflow.org/api_docs/python/tf/placeholder)\n",
    " * Set the shape using `n_classes` with batch size set to `None`.\n",
    " * Name the TensorFlow placeholder \"y\" using the TensorFlow `name` parameter in the [TF Placeholder](https://www.tensorflow.org/api_docs/python/tf/placeholder).\n",
    "* Implement `neural_net_keep_prob_input`\n",
    " * Return a [TF Placeholder](https://www.tensorflow.org/api_docs/python/tf/placeholder) for dropout keep probability.\n",
    " * Name the TensorFlow placeholder \"keep_prob\" using the TensorFlow `name` parameter in the [TF Placeholder](https://www.tensorflow.org/api_docs/python/tf/placeholder).\n",
    "\n",
    "These names will be used at the end of the project to load your saved model.\n",
    "\n",
    "Note: `None` for shapes in TensorFlow allow for a dynamic size."
   ]
  },
  {
   "cell_type": "code",
   "execution_count": 7,
   "metadata": {},
   "outputs": [
    {
     "name": "stdout",
     "output_type": "stream",
     "text": [
      "Image Input Tests Passed.\n",
      "Label Input Tests Passed.\n",
      "Keep Prob Tests Passed.\n"
     ]
    }
   ],
   "source": [
    "import tensorflow as tf\n",
    "\n",
    "def neural_net_image_input(image_shape):\n",
    "    \"\"\"\n",
    "    Return a Tensor for a batch of image input\n",
    "    : image_shape: Shape of the images\n",
    "    : return: Tensor for image input.\n",
    "    \"\"\"\n",
    "    # DONE: Implement Function\n",
    "    \n",
    "    return tf.placeholder(tf.float32, shape=(None, image_shape[0], image_shape[1], image_shape[2]), name=\"x\")\n",
    "\n",
    "\n",
    "def neural_net_label_input(n_classes):\n",
    "    \"\"\"\n",
    "    Return a Tensor for a batch of label input\n",
    "    : n_classes: Number of classes\n",
    "    : return: Tensor for label input.\n",
    "    \"\"\"\n",
    "    # DONE: Implement Function\n",
    "    return tf.placeholder(tf.float32, shape=(None, n_classes), name=\"y\")\n",
    "\n",
    "\n",
    "def neural_net_keep_prob_input():\n",
    "    \"\"\"\n",
    "    Return a Tensor for keep probability\n",
    "    : return: Tensor for keep probability.\n",
    "    \"\"\"\n",
    "    # TODO: Implement Function\n",
    "    return tf.placeholder(tf.float32, name=\"keep_prob\")\n",
    "\n",
    "\n",
    "\"\"\"\n",
    "DON'T MODIFY ANYTHING IN THIS CELL THAT IS BELOW THIS LINE\n",
    "\"\"\"\n",
    "tf.reset_default_graph()\n",
    "tests.test_nn_image_inputs(neural_net_image_input)\n",
    "tests.test_nn_label_inputs(neural_net_label_input)\n",
    "tests.test_nn_keep_prob_inputs(neural_net_keep_prob_input)"
   ]
  },
  {
   "cell_type": "markdown",
   "metadata": {},
   "source": [
    "### Convolution and Max Pooling Layer\n",
    "Convolution layers have a lot of success with images. For this code cell, you should implement the function `conv2d_maxpool` to apply convolution then max pooling:\n",
    "* Create the weight and bias using `conv_ksize`, `conv_num_outputs` and the shape of `x_tensor`.\n",
    "* Apply a convolution to `x_tensor` using weight and `conv_strides`.\n",
    " * We recommend you use same padding, but you're welcome to use any padding.\n",
    "* Add bias\n",
    "* Add a nonlinear activation to the convolution.\n",
    "* Apply Max Pooling using `pool_ksize` and `pool_strides`.\n",
    " * We recommend you use same padding, but you're welcome to use any padding.\n",
    "\n",
    "**Note:** You **can't** use [TensorFlow Layers](https://www.tensorflow.org/api_docs/python/tf/layers) or [TensorFlow Layers (contrib)](https://www.tensorflow.org/api_guides/python/contrib.layers) for **this** layer, but you can still use TensorFlow's [Neural Network](https://www.tensorflow.org/api_docs/python/tf/nn) package. You may still use the shortcut option for all the **other** layers."
   ]
  },
  {
   "cell_type": "code",
   "execution_count": 8,
   "metadata": {},
   "outputs": [
    {
     "name": "stdout",
     "output_type": "stream",
     "text": [
      "Tests Passed\n"
     ]
    }
   ],
   "source": [
    "def conv2d(x_tensor, conv_num_outputs, conv_ksize, conv_strides):\n",
    "    W = tf.Variable(tf.truncated_normal([conv_ksize[0], conv_ksize[1], int(x_tensor.shape[-1]), conv_num_outputs], stddev=0.01))\n",
    "    b = tf.Variable(tf.zeros([conv_num_outputs]))\n",
    "    \n",
    "    conv = tf.nn.conv2d(x_tensor, W, strides=(1,conv_strides[0], conv_strides[1], 1), padding='SAME')\n",
    "    conv = tf.nn.bias_add(conv, b)\n",
    "    \n",
    "    return tf.nn.relu(conv)\n",
    "\n",
    "def max_pool(conv, pool_ksize, pool_strides):\n",
    "    return tf.nn.max_pool(conv,\n",
    "                          ksize=(1, pool_ksize[0], pool_ksize[1], 1),\n",
    "                          strides=(1, pool_strides[0], pool_strides[1], 1),\n",
    "                          padding='SAME')\n",
    "\n",
    "def conv2d_maxpool(x_tensor, conv_num_outputs, conv_ksize, conv_strides, pool_ksize, pool_strides):\n",
    "    \"\"\"\n",
    "    Apply convolution then max pooling to x_tensor\n",
    "    :param x_tensor: TensorFlow Tensor\n",
    "    :param conv_num_outputs: Number of outputs for the convolutional layer\n",
    "    :param conv_ksize: kernal size 2-D Tuple for the convolutional layer\n",
    "    :param conv_strides: Stride 2-D Tuple for convolution\n",
    "    :param pool_ksize: kernal size 2-D Tuple for pool\n",
    "    :param pool_strides: Stride 2-D Tuple for pool\n",
    "    : return: A tensor that represents convolution and max pooling of x_tensor\n",
    "    \"\"\"\n",
    "    \n",
    "    conv = conv2d(x_tensor, conv_num_outputs, conv_ksize, conv_strides)\n",
    "    return max_pool(conv, pool_ksize, pool_strides)\n",
    "\n",
    "\"\"\"\n",
    "DON'T MODIFY ANYTHING IN THIS CELL THAT IS BELOW THIS LINE\n",
    "\"\"\"\n",
    "tests.test_con_pool(conv2d_maxpool)"
   ]
  },
  {
   "cell_type": "markdown",
   "metadata": {},
   "source": [
    "### Flatten Layer\n",
    "Implement the `flatten` function to change the dimension of `x_tensor` from a 4-D tensor to a 2-D tensor.  The output should be the shape (*Batch Size*, *Flattened Image Size*). Shortcut option: you can use classes from the [TensorFlow Layers](https://www.tensorflow.org/api_docs/python/tf/layers) or [TensorFlow Layers (contrib)](https://www.tensorflow.org/api_guides/python/contrib.layers) packages for this layer. For more of a challenge, only use other TensorFlow packages."
   ]
  },
  {
   "cell_type": "code",
   "execution_count": 9,
   "metadata": {},
   "outputs": [
    {
     "name": "stdout",
     "output_type": "stream",
     "text": [
      "Tests Passed\n"
     ]
    }
   ],
   "source": [
    "def flatten(x_tensor):\n",
    "    \"\"\"\n",
    "    Flatten x_tensor to (Batch Size, Flattened Image Size)\n",
    "    : x_tensor: A tensor of size (Batch Size, ...), where ... are the image dimensions.\n",
    "    : return: A tensor of size (Batch Size, Flattened Image Size).\n",
    "    \"\"\"\n",
    "    # DONE: Implement Function\n",
    "    tensor_shape = x_tensor.get_shape().as_list()\n",
    "    output_size = int(np.prod(tensor_shape[1:]))\n",
    "    \n",
    "    # use tf.shape instead of -1\n",
    "    output = tf.reshape(x_tensor, [tf.shape(x_tensor)[0], output_size])\n",
    "    \n",
    "    return output\n",
    "\n",
    "\n",
    "\"\"\"\n",
    "DON'T MODIFY ANYTHING IN THIS CELL THAT IS BELOW THIS LINE\n",
    "\"\"\"\n",
    "tests.test_flatten(flatten)"
   ]
  },
  {
   "cell_type": "markdown",
   "metadata": {},
   "source": [
    "### Fully-Connected Layer\n",
    "Implement the `fully_conn` function to apply a fully connected layer to `x_tensor` with the shape (*Batch Size*, *num_outputs*). Shortcut option: you can use classes from the [TensorFlow Layers](https://www.tensorflow.org/api_docs/python/tf/layers) or [TensorFlow Layers (contrib)](https://www.tensorflow.org/api_guides/python/contrib.layers) packages for this layer. For more of a challenge, only use other TensorFlow packages."
   ]
  },
  {
   "cell_type": "code",
   "execution_count": 10,
   "metadata": {},
   "outputs": [
    {
     "name": "stdout",
     "output_type": "stream",
     "text": [
      "Tests Passed\n"
     ]
    }
   ],
   "source": [
    "def fully_conn(x_tensor, num_outputs):\n",
    "    \"\"\"\n",
    "    Apply a fully connected layer to x_tensor using weight and bias\n",
    "    : x_tensor: A 2-D tensor where the first dimension is batch size.\n",
    "    : num_outputs: The number of output that the new tensor should be.\n",
    "    : return: A 2-D tensor where the second dimension is num_outputs.\n",
    "    \"\"\"\n",
    "    # DONE: Implement Function\n",
    "    num_inputs = x_tensor.get_shape().as_list()[-1]\n",
    "    W = tf.Variable(tf.truncated_normal([num_inputs, num_outputs], stddev=0.01))\n",
    "    b = tf.Variable(tf.zeros([num_outputs]))\n",
    "    \n",
    "    return tf.nn.relu(tf.add(tf.matmul(x_tensor, W),b))\n",
    "\n",
    "\n",
    "\"\"\"\n",
    "DON'T MODIFY ANYTHING IN THIS CELL THAT IS BELOW THIS LINE\n",
    "\"\"\"\n",
    "tests.test_fully_conn(fully_conn)"
   ]
  },
  {
   "cell_type": "markdown",
   "metadata": {},
   "source": [
    "### Output Layer\n",
    "Implement the `output` function to apply a fully connected layer to `x_tensor` with the shape (*Batch Size*, *num_outputs*). Shortcut option: you can use classes from the [TensorFlow Layers](https://www.tensorflow.org/api_docs/python/tf/layers) or [TensorFlow Layers (contrib)](https://www.tensorflow.org/api_guides/python/contrib.layers) packages for this layer. For more of a challenge, only use other TensorFlow packages.\n",
    "\n",
    "**Note:** Activation, softmax, or cross entropy should **not** be applied to this."
   ]
  },
  {
   "cell_type": "code",
   "execution_count": 11,
   "metadata": {},
   "outputs": [
    {
     "name": "stdout",
     "output_type": "stream",
     "text": [
      "Tests Passed\n"
     ]
    }
   ],
   "source": [
    "def output(x_tensor, num_outputs):\n",
    "    \"\"\"\n",
    "    Apply a output layer to x_tensor using weight and bias\n",
    "    : x_tensor: A 2-D tensor where the first dimension is batch size.\n",
    "    : num_outputs: The number of output that the new tensor should be.\n",
    "    : return: A 2-D tensor where the second dimension is num_outputs.\n",
    "    \"\"\"\n",
    "    # DONE: Implement Function\n",
    "    num_inputs = x_tensor.get_shape().as_list()[-1]\n",
    "    W = tf.Variable(tf.truncated_normal([num_inputs, num_outputs], stddev=0.04))\n",
    "    b = tf.Variable(tf.zeros([num_outputs]))\n",
    "    \n",
    "    return tf.add(tf.matmul(x_tensor, W), b)\n",
    "\n",
    "\n",
    "\"\"\"\n",
    "DON'T MODIFY ANYTHING IN THIS CELL THAT IS BELOW THIS LINE\n",
    "\"\"\"\n",
    "tests.test_output(output)"
   ]
  },
  {
   "cell_type": "markdown",
   "metadata": {},
   "source": [
    "### Create Convolutional Model\n",
    "Implement the function `conv_net` to create a convolutional neural network model. The function takes in a batch of images, `x`, and outputs logits.  Use the layers you created above to create this model:\n",
    "\n",
    "* Apply 1, 2, or 3 Convolution and Max Pool layers\n",
    "* Apply a Flatten Layer\n",
    "* Apply 1, 2, or 3 Fully Connected Layers\n",
    "* Apply an Output Layer\n",
    "* Return the output\n",
    "* Apply [TensorFlow's Dropout](https://www.tensorflow.org/api_docs/python/tf/nn/dropout) to one or more layers in the model using `keep_prob`. "
   ]
  },
  {
   "cell_type": "code",
   "execution_count": 12,
   "metadata": {},
   "outputs": [
    {
     "name": "stdout",
     "output_type": "stream",
     "text": [
      "Neural Network Built!\n"
     ]
    }
   ],
   "source": [
    "def conv_net(x, keep_prob):\n",
    "    \"\"\"\n",
    "    Create a convolutional neural network model\n",
    "    : x: Placeholder tensor that holds image data.\n",
    "    : keep_prob: Placeholder tensor that hold dropout keep probability.\n",
    "    : return: Tensor that represents logits\n",
    "    \"\"\"\n",
    "    # DONE: Apply 1, 2, or 3 Convolution and Max Pool layers\n",
    "    #    Play around with different number of outputs, kernel size and stride\n",
    "    # Function Definition from Above:\n",
    "    #    conv2d_maxpool(x_tensor, conv_num_outputs, conv_ksize, conv_strides, pool_ksize, pool_strides)\n",
    "    \n",
    "    # network architecture taken from https://github.com/tensorflow/models/blob/master/tutorials/image/cifar10/cifar10.py\n",
    "    \n",
    "    convpool = x\n",
    "    \n",
    "    convpool = conv2d_maxpool(convpool,\n",
    "                      conv_num_outputs=64,\n",
    "                      conv_ksize=[5,5],\n",
    "                      conv_strides=[1,1],\n",
    "                      pool_ksize=[3,3],\n",
    "                      pool_strides=[2,2])\n",
    "    convpool = tf.nn.lrn(convpool, 4, bias=1.0, alpha=0.001 / 9.0, beta=0.75)\n",
    "    \n",
    "    convpool = conv2d(convpool,\n",
    "                    conv_num_outputs=64,\n",
    "                    conv_ksize=[5,5],\n",
    "                    conv_strides=[1,1])\n",
    "    convpool = tf.nn.lrn(convpool, 4, bias=1.0, alpha=0.001 / 9.0, beta=0.75)\n",
    "    convpool = max_pool(convpool,\n",
    "                        pool_ksize=[3,3],\n",
    "                        pool_strides=[2,2])\n",
    "    \n",
    "    \n",
    "    # DONE: Apply a Flatten Layer\n",
    "    # Function Definition from Above:\n",
    "    #   flatten(x_tensor)\n",
    "    flat = flatten(convpool)\n",
    "\n",
    "    # DONE: Apply 1, 2, or 3 Fully Connected Layers\n",
    "    #    Play around with different number of outputs\n",
    "    # Function Definition from Above:\n",
    "    #   fully_conn(x_tensor, num_outputs)\n",
    "    \n",
    "    conn = flat\n",
    "    \n",
    "    # replace weight decay with dropout\n",
    "    conn = fully_conn(conn, 384)\n",
    "    conn = tf.nn.dropout(conn, keep_prob=keep_prob)\n",
    "    conn = fully_conn(conn, 192)\n",
    "    conn = tf.nn.dropout(conn, keep_prob=keep_prob)\n",
    "    \n",
    "    # DONE: Apply an Output Layer\n",
    "    #    Set this to the number of classes\n",
    "    # Function Definition from Above:\n",
    "    #   output(x_tensor, num_outputs)\n",
    "    y_hat = output(conn, 10)\n",
    "    \n",
    "    # DONE: return output\n",
    "    return y_hat\n",
    "\n",
    "\n",
    "\"\"\"\n",
    "DON'T MODIFY ANYTHING IN THIS CELL THAT IS BELOW THIS LINE\n",
    "\"\"\"\n",
    "\n",
    "##############################\n",
    "## Build the Neural Network ##\n",
    "##############################\n",
    "\n",
    "# Remove previous weights, bias, inputs, etc..\n",
    "tf.reset_default_graph()\n",
    "\n",
    "# Inputs\n",
    "x = neural_net_image_input((32, 32, 3))\n",
    "y = neural_net_label_input(10)\n",
    "keep_prob = neural_net_keep_prob_input()\n",
    "\n",
    "# Model\n",
    "logits = conv_net(x, keep_prob)\n",
    "\n",
    "# Name logits Tensor, so that is can be loaded from disk after training\n",
    "logits = tf.identity(logits, name='logits')\n",
    "\n",
    "# Loss and Optimizer\n",
    "cost = tf.reduce_mean(tf.nn.softmax_cross_entropy_with_logits(logits=logits, labels=y))\n",
    "optimizer = tf.train.AdamOptimizer().minimize(cost)\n",
    "\n",
    "# Accuracy\n",
    "correct_pred = tf.equal(tf.argmax(logits, 1), tf.argmax(y, 1))\n",
    "accuracy = tf.reduce_mean(tf.cast(correct_pred, tf.float32), name='accuracy')\n",
    "\n",
    "tests.test_conv_net(conv_net)"
   ]
  },
  {
   "cell_type": "markdown",
   "metadata": {},
   "source": [
    "## Train the Neural Network\n",
    "### Single Optimization\n",
    "Implement the function `train_neural_network` to do a single optimization.  The optimization should use `optimizer` to optimize in `session` with a `feed_dict` of the following:\n",
    "* `x` for image input\n",
    "* `y` for labels\n",
    "* `keep_prob` for keep probability for dropout\n",
    "\n",
    "This function will be called for each batch, so `tf.global_variables_initializer()` has already been called.\n",
    "\n",
    "Note: Nothing needs to be returned. This function is only optimizing the neural network."
   ]
  },
  {
   "cell_type": "code",
   "execution_count": 13,
   "metadata": {},
   "outputs": [
    {
     "name": "stdout",
     "output_type": "stream",
     "text": [
      "Tests Passed\n"
     ]
    }
   ],
   "source": [
    "def train_neural_network(session, optimizer, keep_probability, feature_batch, label_batch):\n",
    "    \"\"\"\n",
    "    Optimize the session on a batch of images and labels\n",
    "    : session: Current TensorFlow session\n",
    "    : optimizer: TensorFlow optimizer function\n",
    "    : keep_probability: keep probability\n",
    "    : feature_batch: Batch of Numpy image data\n",
    "    : label_batch: Batch of Numpy label data\n",
    "    \"\"\"\n",
    "    # DONE: Implement Function\n",
    "    session.run(optimizer, feed_dict={x: feature_batch, y: label_batch, keep_prob: keep_probability})\n",
    "\n",
    "\n",
    "\"\"\"\n",
    "DON'T MODIFY ANYTHING IN THIS CELL THAT IS BELOW THIS LINE\n",
    "\"\"\"\n",
    "tests.test_train_nn(train_neural_network)"
   ]
  },
  {
   "cell_type": "markdown",
   "metadata": {},
   "source": [
    "### Show Stats\n",
    "Implement the function `print_stats` to print loss and validation accuracy.  Use the global variables `valid_features` and `valid_labels` to calculate validation accuracy.  Use a keep probability of `1.0` to calculate the loss and validation accuracy."
   ]
  },
  {
   "cell_type": "code",
   "execution_count": 14,
   "metadata": {
    "collapsed": true
   },
   "outputs": [],
   "source": [
    "def print_stats(session, feature_batch, label_batch, cost, accuracy):\n",
    "    import numpy as np\n",
    "    \n",
    "    \"\"\"\n",
    "    Print information about loss and validation accuracy\n",
    "    : session: Current TensorFlow session\n",
    "    : feature_batch: Batch of Numpy image data\n",
    "    : label_batch: Batch of Numpy label data\n",
    "    : cost: TensorFlow cost function\n",
    "    : accuracy: TensorFlow accuracy function\n",
    "    \"\"\"\n",
    "    # DONE: Implement Function\n",
    "    \n",
    "    # this is to prevent memory problems when calculating validation accuracy\n",
    "    n_val = valid_features.shape[0]\n",
    "    val_batch_size = 128\n",
    "    val_total_batch = n_val // val_batch_size\n",
    "    valid_features_batches = np.array_split(valid_features, val_total_batch)\n",
    "    valid_labels_batches = np.array_split(valid_labels, val_total_batch)\n",
    "    val_acc = 0\n",
    "    for i in range(val_total_batch):\n",
    "        val_acc += session.run(accuracy, feed_dict={x: valid_features_batches[i], y: valid_labels_batches[i], keep_prob: 1.0}) / val_total_batch\n",
    "    \n",
    "    train_cost = session.run(cost, feed_dict={x:feature_batch, y:label_batch, keep_prob:1.0})\n",
    "    \n",
    "    print(\"train cost: %g, validation accuracy: %g\" % (\n",
    "        train_cost,\n",
    "        val_acc\n",
    "    ))"
   ]
  },
  {
   "cell_type": "markdown",
   "metadata": {},
   "source": [
    "### Hyperparameters\n",
    "Tune the following parameters:\n",
    "* Set `epochs` to the number of iterations until the network stops learning or start overfitting\n",
    "* Set `batch_size` to the highest number that your machine has memory for.  Most people set them to common sizes of memory:\n",
    " * 64\n",
    " * 128\n",
    " * 256\n",
    " * ...\n",
    "* Set `keep_probability` to the probability of keeping a node using dropout"
   ]
  },
  {
   "cell_type": "code",
   "execution_count": 15,
   "metadata": {
    "collapsed": true
   },
   "outputs": [],
   "source": [
    "# DONE: Tune Parameters\n",
    "epochs = 50\n",
    "batch_size = 512\n",
    "keep_probability = 0.5\n",
    "\n",
    "config = tf.ConfigProto()\n",
    "config.gpu_options.allow_growth = True"
   ]
  },
  {
   "cell_type": "markdown",
   "metadata": {},
   "source": [
    "### Train on a Single CIFAR-10 Batch\n",
    "Instead of training the neural network on all the CIFAR-10 batches of data, let's use a single batch. This should save time while you iterate on the model to get a better accuracy.  Once the final validation accuracy is 50% or greater, run the model on all the data in the next section."
   ]
  },
  {
   "cell_type": "code",
   "execution_count": 16,
   "metadata": {
    "scrolled": true
   },
   "outputs": [
    {
     "name": "stdout",
     "output_type": "stream",
     "text": [
      "Checking the Training on a Single Batch...\n",
      "Epoch  1, CIFAR-10 Batch 1:  train cost: 2.20628, validation accuracy: 0.171971\n",
      "Epoch  2, CIFAR-10 Batch 1:  train cost: 2.08575, validation accuracy: 0.221385\n",
      "Epoch  3, CIFAR-10 Batch 1:  train cost: 2.01999, validation accuracy: 0.246593\n",
      "Epoch  4, CIFAR-10 Batch 1:  train cost: 1.9862, validation accuracy: 0.263412\n",
      "Epoch  5, CIFAR-10 Batch 1:  train cost: 1.90336, validation accuracy: 0.324622\n",
      "Epoch  6, CIFAR-10 Batch 1:  train cost: 1.82774, validation accuracy: 0.357434\n",
      "Epoch  7, CIFAR-10 Batch 1:  train cost: 1.75136, validation accuracy: 0.375222\n",
      "Epoch  8, CIFAR-10 Batch 1:  train cost: 1.67013, validation accuracy: 0.393999\n",
      "Epoch  9, CIFAR-10 Batch 1:  train cost: 1.61673, validation accuracy: 0.4068\n",
      "Epoch 10, CIFAR-10 Batch 1:  train cost: 1.5747, validation accuracy: 0.413825\n",
      "Epoch 11, CIFAR-10 Batch 1:  train cost: 1.57225, validation accuracy: 0.424614\n",
      "Epoch 12, CIFAR-10 Batch 1:  train cost: 1.51666, validation accuracy: 0.450811\n",
      "Epoch 13, CIFAR-10 Batch 1:  train cost: 1.50437, validation accuracy: 0.441042\n",
      "Epoch 14, CIFAR-10 Batch 1:  train cost: 1.50435, validation accuracy: 0.445833\n",
      "Epoch 15, CIFAR-10 Batch 1:  train cost: 1.44638, validation accuracy: 0.463209\n",
      "Epoch 16, CIFAR-10 Batch 1:  train cost: 1.36601, validation accuracy: 0.484822\n",
      "Epoch 17, CIFAR-10 Batch 1:  train cost: 1.33931, validation accuracy: 0.48483\n",
      "Epoch 18, CIFAR-10 Batch 1:  train cost: 1.33614, validation accuracy: 0.481029\n",
      "Epoch 19, CIFAR-10 Batch 1:  train cost: 1.31756, validation accuracy: 0.484608\n",
      "Epoch 20, CIFAR-10 Batch 1:  train cost: 1.35173, validation accuracy: 0.46541\n",
      "Epoch 21, CIFAR-10 Batch 1:  train cost: 1.23403, validation accuracy: 0.512794\n",
      "Epoch 22, CIFAR-10 Batch 1:  train cost: 1.21091, validation accuracy: 0.509608\n",
      "Epoch 23, CIFAR-10 Batch 1:  train cost: 1.16302, validation accuracy: 0.51819\n",
      "Epoch 24, CIFAR-10 Batch 1:  train cost: 1.12389, validation accuracy: 0.530192\n",
      "Epoch 25, CIFAR-10 Batch 1:  train cost: 1.11225, validation accuracy: 0.5298\n",
      "Epoch 26, CIFAR-10 Batch 1:  train cost: 1.08856, validation accuracy: 0.518597\n",
      "Epoch 27, CIFAR-10 Batch 1:  train cost: 1.02907, validation accuracy: 0.527385\n",
      "Epoch 28, CIFAR-10 Batch 1:  train cost: 0.981387, validation accuracy: 0.537789\n",
      "Epoch 29, CIFAR-10 Batch 1:  train cost: 0.967133, validation accuracy: 0.540167\n",
      "Epoch 30, CIFAR-10 Batch 1:  train cost: 0.911364, validation accuracy: 0.549596\n",
      "Epoch 31, CIFAR-10 Batch 1:  train cost: 0.923484, validation accuracy: 0.555011\n",
      "Epoch 32, CIFAR-10 Batch 1:  train cost: 0.830463, validation accuracy: 0.551788\n",
      "Epoch 33, CIFAR-10 Batch 1:  train cost: 0.823038, validation accuracy: 0.566387\n",
      "Epoch 34, CIFAR-10 Batch 1:  train cost: 0.746391, validation accuracy: 0.564781\n",
      "Epoch 35, CIFAR-10 Batch 1:  train cost: 0.722246, validation accuracy: 0.558989\n",
      "Epoch 36, CIFAR-10 Batch 1:  train cost: 0.755575, validation accuracy: 0.552782\n",
      "Epoch 37, CIFAR-10 Batch 1:  train cost: 0.668745, validation accuracy: 0.582968\n",
      "Epoch 38, CIFAR-10 Batch 1:  train cost: 0.627183, validation accuracy: 0.581189\n",
      "Epoch 39, CIFAR-10 Batch 1:  train cost: 0.625494, validation accuracy: 0.579175\n",
      "Epoch 40, CIFAR-10 Batch 1:  train cost: 0.554512, validation accuracy: 0.573985\n",
      "Epoch 41, CIFAR-10 Batch 1:  train cost: 0.541851, validation accuracy: 0.591798\n",
      "Epoch 42, CIFAR-10 Batch 1:  train cost: 0.531405, validation accuracy: 0.584964\n",
      "Epoch 43, CIFAR-10 Batch 1:  train cost: 0.491009, validation accuracy: 0.588588\n",
      "Epoch 44, CIFAR-10 Batch 1:  train cost: 0.493501, validation accuracy: 0.588383\n",
      "Epoch 45, CIFAR-10 Batch 1:  train cost: 0.459752, validation accuracy: 0.58657\n",
      "Epoch 46, CIFAR-10 Batch 1:  train cost: 0.435739, validation accuracy: 0.585385\n",
      "Epoch 47, CIFAR-10 Batch 1:  train cost: 0.420615, validation accuracy: 0.585986\n",
      "Epoch 48, CIFAR-10 Batch 1:  train cost: 0.392612, validation accuracy: 0.599589\n",
      "Epoch 49, CIFAR-10 Batch 1:  train cost: 0.384803, validation accuracy: 0.586186\n",
      "Epoch 50, CIFAR-10 Batch 1:  train cost: 0.363315, validation accuracy: 0.583187\n"
     ]
    }
   ],
   "source": [
    "\"\"\"\n",
    "DON'T MODIFY ANYTHING IN THIS CELL\n",
    "\"\"\"\n",
    "print('Checking the Training on a Single Batch...')\n",
    "\n",
    "with tf.Session(config=config) as sess:\n",
    "    # Initializing the variables\n",
    "    sess.run(tf.global_variables_initializer())\n",
    "    \n",
    "    # Training cycle\n",
    "    for epoch in range(epochs):\n",
    "        batch_i = 1\n",
    "        for batch_features, batch_labels in helper.load_preprocess_training_batch(batch_i, batch_size):\n",
    "            train_neural_network(sess, optimizer, keep_probability, batch_features, batch_labels)\n",
    "        print('Epoch {:>2}, CIFAR-10 Batch {}:  '.format(epoch + 1, batch_i), end='')\n",
    "        print_stats(sess, batch_features, batch_labels, cost, accuracy)"
   ]
  },
  {
   "cell_type": "markdown",
   "metadata": {},
   "source": [
    "### Fully Train the Model\n",
    "Now that you got a good accuracy with a single CIFAR-10 batch, try it with all five batches."
   ]
  },
  {
   "cell_type": "code",
   "execution_count": 17,
   "metadata": {
    "scrolled": true
   },
   "outputs": [
    {
     "name": "stdout",
     "output_type": "stream",
     "text": [
      "Training...\n",
      "Epoch  1, CIFAR-10 Batch 1:  train cost: 2.25218, validation accuracy: 0.153772\n",
      "Epoch  1, CIFAR-10 Batch 2:  train cost: 2.07002, validation accuracy: 0.207397\n",
      "Epoch  1, CIFAR-10 Batch 3:  train cost: 1.96219, validation accuracy: 0.258634\n",
      "Epoch  1, CIFAR-10 Batch 4:  train cost: 1.8513, validation accuracy: 0.30361\n",
      "Epoch  1, CIFAR-10 Batch 5:  train cost: 1.82776, validation accuracy: 0.340244\n",
      "Epoch  2, CIFAR-10 Batch 1:  train cost: 1.85129, validation accuracy: 0.329419\n",
      "Epoch  2, CIFAR-10 Batch 2:  train cost: 1.70154, validation accuracy: 0.364459\n",
      "Epoch  2, CIFAR-10 Batch 3:  train cost: 1.49636, validation accuracy: 0.40623\n",
      "Epoch  2, CIFAR-10 Batch 4:  train cost: 1.51368, validation accuracy: 0.41162\n",
      "Epoch  2, CIFAR-10 Batch 5:  train cost: 1.55217, validation accuracy: 0.418435\n",
      "Epoch  3, CIFAR-10 Batch 1:  train cost: 1.54879, validation accuracy: 0.450803\n",
      "Epoch  3, CIFAR-10 Batch 2:  train cost: 1.48719, validation accuracy: 0.465219\n",
      "Epoch  3, CIFAR-10 Batch 3:  train cost: 1.28561, validation accuracy: 0.465815\n",
      "Epoch  3, CIFAR-10 Batch 4:  train cost: 1.3255, validation accuracy: 0.467006\n",
      "Epoch  3, CIFAR-10 Batch 5:  train cost: 1.36353, validation accuracy: 0.487006\n",
      "Epoch  4, CIFAR-10 Batch 1:  train cost: 1.45662, validation accuracy: 0.494803\n",
      "Epoch  4, CIFAR-10 Batch 2:  train cost: 1.3603, validation accuracy: 0.511583\n",
      "Epoch  4, CIFAR-10 Batch 3:  train cost: 1.16552, validation accuracy: 0.506396\n",
      "Epoch  4, CIFAR-10 Batch 4:  train cost: 1.18179, validation accuracy: 0.522017\n",
      "Epoch  4, CIFAR-10 Batch 5:  train cost: 1.25571, validation accuracy: 0.530815\n",
      "Epoch  5, CIFAR-10 Batch 1:  train cost: 1.32103, validation accuracy: 0.533773\n",
      "Epoch  5, CIFAR-10 Batch 2:  train cost: 1.25884, validation accuracy: 0.53939\n",
      "Epoch  5, CIFAR-10 Batch 3:  train cost: 1.07151, validation accuracy: 0.538412\n",
      "Epoch  5, CIFAR-10 Batch 4:  train cost: 1.07564, validation accuracy: 0.554195\n",
      "Epoch  5, CIFAR-10 Batch 5:  train cost: 1.16977, validation accuracy: 0.552004\n",
      "Epoch  6, CIFAR-10 Batch 1:  train cost: 1.21171, validation accuracy: 0.550369\n",
      "Epoch  6, CIFAR-10 Batch 2:  train cost: 1.16517, validation accuracy: 0.566593\n",
      "Epoch  6, CIFAR-10 Batch 3:  train cost: 1.01929, validation accuracy: 0.570389\n",
      "Epoch  6, CIFAR-10 Batch 4:  train cost: 1.02026, validation accuracy: 0.561767\n",
      "Epoch  6, CIFAR-10 Batch 5:  train cost: 1.07487, validation accuracy: 0.577386\n",
      "Epoch  7, CIFAR-10 Batch 1:  train cost: 1.11203, validation accuracy: 0.584201\n",
      "Epoch  7, CIFAR-10 Batch 2:  train cost: 1.09614, validation accuracy: 0.591203\n",
      "Epoch  7, CIFAR-10 Batch 3:  train cost: 0.958217, validation accuracy: 0.601202\n",
      "Epoch  7, CIFAR-10 Batch 4:  train cost: 0.929812, validation accuracy: 0.596789\n",
      "Epoch  7, CIFAR-10 Batch 5:  train cost: 1.02685, validation accuracy: 0.594794\n",
      "Epoch  8, CIFAR-10 Batch 1:  train cost: 1.05171, validation accuracy: 0.592792\n",
      "Epoch  8, CIFAR-10 Batch 2:  train cost: 1.0566, validation accuracy: 0.597187\n",
      "Epoch  8, CIFAR-10 Batch 3:  train cost: 0.923363, validation accuracy: 0.607578\n",
      "Epoch  8, CIFAR-10 Batch 4:  train cost: 0.865161, validation accuracy: 0.6218\n",
      "Epoch  8, CIFAR-10 Batch 5:  train cost: 0.932697, validation accuracy: 0.617601\n",
      "Epoch  9, CIFAR-10 Batch 1:  train cost: 0.976506, validation accuracy: 0.610788\n",
      "Epoch  9, CIFAR-10 Batch 2:  train cost: 0.933278, validation accuracy: 0.638394\n",
      "Epoch  9, CIFAR-10 Batch 3:  train cost: 0.821947, validation accuracy: 0.628786\n",
      "Epoch  9, CIFAR-10 Batch 4:  train cost: 0.775892, validation accuracy: 0.650192\n",
      "Epoch  9, CIFAR-10 Batch 5:  train cost: 0.865282, validation accuracy: 0.640206\n",
      "Epoch 10, CIFAR-10 Batch 1:  train cost: 0.934368, validation accuracy: 0.640594\n",
      "Epoch 10, CIFAR-10 Batch 2:  train cost: 0.908956, validation accuracy: 0.638193\n",
      "Epoch 10, CIFAR-10 Batch 3:  train cost: 0.770364, validation accuracy: 0.641574\n",
      "Epoch 10, CIFAR-10 Batch 4:  train cost: 0.754902, validation accuracy: 0.657182\n",
      "Epoch 10, CIFAR-10 Batch 5:  train cost: 0.822365, validation accuracy: 0.64518\n",
      "Epoch 11, CIFAR-10 Batch 1:  train cost: 0.857855, validation accuracy: 0.664199\n",
      "Epoch 11, CIFAR-10 Batch 2:  train cost: 0.815078, validation accuracy: 0.665816\n",
      "Epoch 11, CIFAR-10 Batch 3:  train cost: 0.726098, validation accuracy: 0.657576\n",
      "Epoch 11, CIFAR-10 Batch 4:  train cost: 0.700312, validation accuracy: 0.675189\n",
      "Epoch 11, CIFAR-10 Batch 5:  train cost: 0.74933, validation accuracy: 0.664193\n",
      "Epoch 12, CIFAR-10 Batch 1:  train cost: 0.814123, validation accuracy: 0.680211\n",
      "Epoch 12, CIFAR-10 Batch 2:  train cost: 0.770974, validation accuracy: 0.674414\n",
      "Epoch 12, CIFAR-10 Batch 3:  train cost: 0.679245, validation accuracy: 0.67638\n",
      "Epoch 12, CIFAR-10 Batch 4:  train cost: 0.658041, validation accuracy: 0.676209\n",
      "Epoch 12, CIFAR-10 Batch 5:  train cost: 0.685254, validation accuracy: 0.679368\n",
      "Epoch 13, CIFAR-10 Batch 1:  train cost: 0.712056, validation accuracy: 0.685595\n",
      "Epoch 13, CIFAR-10 Batch 2:  train cost: 0.763196, validation accuracy: 0.68282\n",
      "Epoch 13, CIFAR-10 Batch 3:  train cost: 0.611517, validation accuracy: 0.675784\n",
      "Epoch 13, CIFAR-10 Batch 4:  train cost: 0.606595, validation accuracy: 0.693575\n",
      "Epoch 13, CIFAR-10 Batch 5:  train cost: 0.627364, validation accuracy: 0.686394\n",
      "Epoch 14, CIFAR-10 Batch 1:  train cost: 0.644673, validation accuracy: 0.702788\n",
      "Epoch 14, CIFAR-10 Batch 2:  train cost: 0.681908, validation accuracy: 0.693811\n",
      "Epoch 14, CIFAR-10 Batch 3:  train cost: 0.57642, validation accuracy: 0.686779\n",
      "Epoch 14, CIFAR-10 Batch 4:  train cost: 0.53299, validation accuracy: 0.704973\n",
      "Epoch 14, CIFAR-10 Batch 5:  train cost: 0.574203, validation accuracy: 0.7004\n",
      "Epoch 15, CIFAR-10 Batch 1:  train cost: 0.621937, validation accuracy: 0.705004\n",
      "Epoch 15, CIFAR-10 Batch 2:  train cost: 0.65049, validation accuracy: 0.701827\n",
      "Epoch 15, CIFAR-10 Batch 3:  train cost: 0.548809, validation accuracy: 0.6936\n",
      "Epoch 15, CIFAR-10 Batch 4:  train cost: 0.533349, validation accuracy: 0.709211\n",
      "Epoch 15, CIFAR-10 Batch 5:  train cost: 0.532074, validation accuracy: 0.706773\n",
      "Epoch 16, CIFAR-10 Batch 1:  train cost: 0.560758, validation accuracy: 0.711788\n",
      "Epoch 16, CIFAR-10 Batch 2:  train cost: 0.604213, validation accuracy: 0.715814\n",
      "Epoch 16, CIFAR-10 Batch 3:  train cost: 0.487058, validation accuracy: 0.708611\n",
      "Epoch 16, CIFAR-10 Batch 4:  train cost: 0.482022, validation accuracy: 0.722211\n",
      "Epoch 16, CIFAR-10 Batch 5:  train cost: 0.484455, validation accuracy: 0.711003\n",
      "Epoch 17, CIFAR-10 Batch 1:  train cost: 0.524118, validation accuracy: 0.710987\n",
      "Epoch 17, CIFAR-10 Batch 2:  train cost: 0.557993, validation accuracy: 0.715618\n",
      "Epoch 17, CIFAR-10 Batch 3:  train cost: 0.478692, validation accuracy: 0.704819\n",
      "Epoch 17, CIFAR-10 Batch 4:  train cost: 0.446686, validation accuracy: 0.713615\n",
      "Epoch 17, CIFAR-10 Batch 5:  train cost: 0.44087, validation accuracy: 0.714004\n",
      "Epoch 18, CIFAR-10 Batch 1:  train cost: 0.490672, validation accuracy: 0.716001\n",
      "Epoch 18, CIFAR-10 Batch 2:  train cost: 0.534604, validation accuracy: 0.716003\n",
      "Epoch 18, CIFAR-10 Batch 3:  train cost: 0.418073, validation accuracy: 0.712611\n",
      "Epoch 18, CIFAR-10 Batch 4:  train cost: 0.42772, validation accuracy: 0.7168\n",
      "Epoch 18, CIFAR-10 Batch 5:  train cost: 0.426632, validation accuracy: 0.722204\n",
      "Epoch 19, CIFAR-10 Batch 1:  train cost: 0.487814, validation accuracy: 0.69219\n",
      "Epoch 19, CIFAR-10 Batch 2:  train cost: 0.540501, validation accuracy: 0.710402\n",
      "Epoch 19, CIFAR-10 Batch 3:  train cost: 0.416218, validation accuracy: 0.71962\n",
      "Epoch 19, CIFAR-10 Batch 4:  train cost: 0.430691, validation accuracy: 0.721395\n",
      "Epoch 19, CIFAR-10 Batch 5:  train cost: 0.406397, validation accuracy: 0.717803\n",
      "Epoch 20, CIFAR-10 Batch 1:  train cost: 0.493087, validation accuracy: 0.68659\n",
      "Epoch 20, CIFAR-10 Batch 2:  train cost: 0.574524, validation accuracy: 0.714795\n",
      "Epoch 20, CIFAR-10 Batch 3:  train cost: 0.409893, validation accuracy: 0.71962\n",
      "Epoch 20, CIFAR-10 Batch 4:  train cost: 0.378128, validation accuracy: 0.725623\n",
      "Epoch 20, CIFAR-10 Batch 5:  train cost: 0.406632, validation accuracy: 0.718194\n",
      "Epoch 21, CIFAR-10 Batch 1:  train cost: 0.432037, validation accuracy: 0.706371\n",
      "Epoch 21, CIFAR-10 Batch 2:  train cost: 0.498066, validation accuracy: 0.716783\n"
     ]
    },
    {
     "name": "stdout",
     "output_type": "stream",
     "text": [
      "Epoch 21, CIFAR-10 Batch 3:  train cost: 0.3799, validation accuracy: 0.721823\n",
      "Epoch 21, CIFAR-10 Batch 4:  train cost: 0.368874, validation accuracy: 0.7258\n",
      "Epoch 21, CIFAR-10 Batch 5:  train cost: 0.338334, validation accuracy: 0.726013\n",
      "Epoch 22, CIFAR-10 Batch 1:  train cost: 0.39037, validation accuracy: 0.708388\n",
      "Epoch 22, CIFAR-10 Batch 2:  train cost: 0.470637, validation accuracy: 0.724791\n",
      "Epoch 22, CIFAR-10 Batch 3:  train cost: 0.365483, validation accuracy: 0.727213\n",
      "Epoch 22, CIFAR-10 Batch 4:  train cost: 0.36975, validation accuracy: 0.728213\n",
      "Epoch 22, CIFAR-10 Batch 5:  train cost: 0.337175, validation accuracy: 0.735419\n",
      "Epoch 23, CIFAR-10 Batch 1:  train cost: 0.37679, validation accuracy: 0.722806\n",
      "Epoch 23, CIFAR-10 Batch 2:  train cost: 0.436644, validation accuracy: 0.725809\n",
      "Epoch 23, CIFAR-10 Batch 3:  train cost: 0.333192, validation accuracy: 0.729824\n",
      "Epoch 23, CIFAR-10 Batch 4:  train cost: 0.317632, validation accuracy: 0.739215\n",
      "Epoch 23, CIFAR-10 Batch 5:  train cost: 0.317002, validation accuracy: 0.721005\n",
      "Epoch 24, CIFAR-10 Batch 1:  train cost: 0.35585, validation accuracy: 0.727811\n",
      "Epoch 24, CIFAR-10 Batch 2:  train cost: 0.397801, validation accuracy: 0.734204\n",
      "Epoch 24, CIFAR-10 Batch 3:  train cost: 0.318649, validation accuracy: 0.72123\n",
      "Epoch 24, CIFAR-10 Batch 4:  train cost: 0.30569, validation accuracy: 0.7316\n",
      "Epoch 24, CIFAR-10 Batch 5:  train cost: 0.310484, validation accuracy: 0.719196\n",
      "Epoch 25, CIFAR-10 Batch 1:  train cost: 0.341704, validation accuracy: 0.717599\n",
      "Epoch 25, CIFAR-10 Batch 2:  train cost: 0.408898, validation accuracy: 0.7202\n",
      "Epoch 25, CIFAR-10 Batch 3:  train cost: 0.302145, validation accuracy: 0.72382\n",
      "Epoch 25, CIFAR-10 Batch 4:  train cost: 0.311303, validation accuracy: 0.728788\n",
      "Epoch 25, CIFAR-10 Batch 5:  train cost: 0.303084, validation accuracy: 0.725604\n",
      "Epoch 26, CIFAR-10 Batch 1:  train cost: 0.32275, validation accuracy: 0.731808\n",
      "Epoch 26, CIFAR-10 Batch 2:  train cost: 0.350656, validation accuracy: 0.734212\n",
      "Epoch 26, CIFAR-10 Batch 3:  train cost: 0.283411, validation accuracy: 0.731602\n",
      "Epoch 26, CIFAR-10 Batch 4:  train cost: 0.281688, validation accuracy: 0.722199\n",
      "Epoch 26, CIFAR-10 Batch 5:  train cost: 0.306954, validation accuracy: 0.718809\n",
      "Epoch 27, CIFAR-10 Batch 1:  train cost: 0.315399, validation accuracy: 0.727403\n",
      "Epoch 27, CIFAR-10 Batch 2:  train cost: 0.317995, validation accuracy: 0.734004\n",
      "Epoch 27, CIFAR-10 Batch 3:  train cost: 0.264547, validation accuracy: 0.735198\n",
      "Epoch 27, CIFAR-10 Batch 4:  train cost: 0.262756, validation accuracy: 0.727421\n",
      "Epoch 27, CIFAR-10 Batch 5:  train cost: 0.257913, validation accuracy: 0.734212\n",
      "Epoch 28, CIFAR-10 Batch 1:  train cost: 0.297197, validation accuracy: 0.733411\n",
      "Epoch 28, CIFAR-10 Batch 2:  train cost: 0.324645, validation accuracy: 0.729011\n",
      "Epoch 28, CIFAR-10 Batch 3:  train cost: 0.258603, validation accuracy: 0.735203\n",
      "Epoch 28, CIFAR-10 Batch 4:  train cost: 0.244499, validation accuracy: 0.732213\n",
      "Epoch 28, CIFAR-10 Batch 5:  train cost: 0.260251, validation accuracy: 0.726819\n",
      "Epoch 29, CIFAR-10 Batch 1:  train cost: 0.278468, validation accuracy: 0.734611\n",
      "Epoch 29, CIFAR-10 Batch 2:  train cost: 0.293306, validation accuracy: 0.735002\n",
      "Epoch 29, CIFAR-10 Batch 3:  train cost: 0.228595, validation accuracy: 0.730797\n",
      "Epoch 29, CIFAR-10 Batch 4:  train cost: 0.243082, validation accuracy: 0.725198\n",
      "Epoch 29, CIFAR-10 Batch 5:  train cost: 0.229611, validation accuracy: 0.732616\n",
      "Epoch 30, CIFAR-10 Batch 1:  train cost: 0.295971, validation accuracy: 0.737774\n",
      "Epoch 30, CIFAR-10 Batch 2:  train cost: 0.290627, validation accuracy: 0.73722\n",
      "Epoch 30, CIFAR-10 Batch 3:  train cost: 0.209737, validation accuracy: 0.74142\n",
      "Epoch 30, CIFAR-10 Batch 4:  train cost: 0.247886, validation accuracy: 0.731425\n",
      "Epoch 30, CIFAR-10 Batch 5:  train cost: 0.233549, validation accuracy: 0.72721\n",
      "Epoch 31, CIFAR-10 Batch 1:  train cost: 0.25535, validation accuracy: 0.738385\n",
      "Epoch 31, CIFAR-10 Batch 2:  train cost: 0.287252, validation accuracy: 0.730806\n",
      "Epoch 31, CIFAR-10 Batch 3:  train cost: 0.232717, validation accuracy: 0.739184\n",
      "Epoch 31, CIFAR-10 Batch 4:  train cost: 0.226387, validation accuracy: 0.741007\n",
      "Epoch 31, CIFAR-10 Batch 5:  train cost: 0.211059, validation accuracy: 0.735417\n",
      "Epoch 32, CIFAR-10 Batch 1:  train cost: 0.228583, validation accuracy: 0.731994\n",
      "Epoch 32, CIFAR-10 Batch 2:  train cost: 0.272657, validation accuracy: 0.729592\n",
      "Epoch 32, CIFAR-10 Batch 3:  train cost: 0.240943, validation accuracy: 0.715194\n",
      "Epoch 32, CIFAR-10 Batch 4:  train cost: 0.210915, validation accuracy: 0.732184\n",
      "Epoch 32, CIFAR-10 Batch 5:  train cost: 0.203515, validation accuracy: 0.739805\n",
      "Epoch 33, CIFAR-10 Batch 1:  train cost: 0.228525, validation accuracy: 0.733597\n",
      "Epoch 33, CIFAR-10 Batch 2:  train cost: 0.215824, validation accuracy: 0.745605\n",
      "Epoch 33, CIFAR-10 Batch 3:  train cost: 0.199223, validation accuracy: 0.729396\n",
      "Epoch 33, CIFAR-10 Batch 4:  train cost: 0.208969, validation accuracy: 0.731192\n",
      "Epoch 33, CIFAR-10 Batch 5:  train cost: 0.198054, validation accuracy: 0.739403\n",
      "Epoch 34, CIFAR-10 Batch 1:  train cost: 0.205283, validation accuracy: 0.739388\n",
      "Epoch 34, CIFAR-10 Batch 2:  train cost: 0.201519, validation accuracy: 0.744407\n",
      "Epoch 34, CIFAR-10 Batch 3:  train cost: 0.187561, validation accuracy: 0.727615\n",
      "Epoch 34, CIFAR-10 Batch 4:  train cost: 0.180399, validation accuracy: 0.7266\n",
      "Epoch 34, CIFAR-10 Batch 5:  train cost: 0.197239, validation accuracy: 0.736408\n",
      "Epoch 35, CIFAR-10 Batch 1:  train cost: 0.192504, validation accuracy: 0.737996\n",
      "Epoch 35, CIFAR-10 Batch 2:  train cost: 0.203238, validation accuracy: 0.7402\n",
      "Epoch 35, CIFAR-10 Batch 3:  train cost: 0.167562, validation accuracy: 0.734001\n",
      "Epoch 35, CIFAR-10 Batch 4:  train cost: 0.164994, validation accuracy: 0.744408\n",
      "Epoch 35, CIFAR-10 Batch 5:  train cost: 0.177931, validation accuracy: 0.736613\n",
      "Epoch 36, CIFAR-10 Batch 1:  train cost: 0.19895, validation accuracy: 0.733602\n",
      "Epoch 36, CIFAR-10 Batch 2:  train cost: 0.190472, validation accuracy: 0.738999\n",
      "Epoch 36, CIFAR-10 Batch 3:  train cost: 0.170445, validation accuracy: 0.735807\n",
      "Epoch 36, CIFAR-10 Batch 4:  train cost: 0.154826, validation accuracy: 0.742799\n",
      "Epoch 36, CIFAR-10 Batch 5:  train cost: 0.159104, validation accuracy: 0.731598\n",
      "Epoch 37, CIFAR-10 Batch 1:  train cost: 0.171978, validation accuracy: 0.721003\n",
      "Epoch 37, CIFAR-10 Batch 2:  train cost: 0.184775, validation accuracy: 0.737013\n",
      "Epoch 37, CIFAR-10 Batch 3:  train cost: 0.171299, validation accuracy: 0.735207\n",
      "Epoch 37, CIFAR-10 Batch 4:  train cost: 0.149277, validation accuracy: 0.736397\n",
      "Epoch 37, CIFAR-10 Batch 5:  train cost: 0.138914, validation accuracy: 0.746202\n",
      "Epoch 38, CIFAR-10 Batch 1:  train cost: 0.169432, validation accuracy: 0.722999\n",
      "Epoch 38, CIFAR-10 Batch 2:  train cost: 0.157462, validation accuracy: 0.746399\n",
      "Epoch 38, CIFAR-10 Batch 3:  train cost: 0.153919, validation accuracy: 0.736807\n",
      "Epoch 38, CIFAR-10 Batch 4:  train cost: 0.143948, validation accuracy: 0.737616\n",
      "Epoch 38, CIFAR-10 Batch 5:  train cost: 0.132185, validation accuracy: 0.743621\n",
      "Epoch 39, CIFAR-10 Batch 1:  train cost: 0.164816, validation accuracy: 0.726999\n",
      "Epoch 39, CIFAR-10 Batch 2:  train cost: 0.167224, validation accuracy: 0.728822\n",
      "Epoch 39, CIFAR-10 Batch 3:  train cost: 0.152042, validation accuracy: 0.729196\n",
      "Epoch 39, CIFAR-10 Batch 4:  train cost: 0.151555, validation accuracy: 0.735423\n",
      "Epoch 39, CIFAR-10 Batch 5:  train cost: 0.133318, validation accuracy: 0.730212\n",
      "Epoch 40, CIFAR-10 Batch 1:  train cost: 0.158796, validation accuracy: 0.7334\n",
      "Epoch 40, CIFAR-10 Batch 2:  train cost: 0.155722, validation accuracy: 0.740206\n",
      "Epoch 40, CIFAR-10 Batch 3:  train cost: 0.142184, validation accuracy: 0.734203\n",
      "Epoch 40, CIFAR-10 Batch 4:  train cost: 0.139075, validation accuracy: 0.738611\n",
      "Epoch 40, CIFAR-10 Batch 5:  train cost: 0.115476, validation accuracy: 0.740597\n",
      "Epoch 41, CIFAR-10 Batch 1:  train cost: 0.145966, validation accuracy: 0.730187\n",
      "Epoch 41, CIFAR-10 Batch 2:  train cost: 0.144392, validation accuracy: 0.738821\n",
      "Epoch 41, CIFAR-10 Batch 3:  train cost: 0.135738, validation accuracy: 0.728198\n",
      "Epoch 41, CIFAR-10 Batch 4:  train cost: 0.136863, validation accuracy: 0.722402\n"
     ]
    },
    {
     "name": "stdout",
     "output_type": "stream",
     "text": [
      "Epoch 41, CIFAR-10 Batch 5:  train cost: 0.124412, validation accuracy: 0.733398\n",
      "Epoch 42, CIFAR-10 Batch 1:  train cost: 0.145337, validation accuracy: 0.715205\n",
      "Epoch 42, CIFAR-10 Batch 2:  train cost: 0.159867, validation accuracy: 0.739413\n",
      "Epoch 42, CIFAR-10 Batch 3:  train cost: 0.108845, validation accuracy: 0.745386\n",
      "Epoch 42, CIFAR-10 Batch 4:  train cost: 0.151104, validation accuracy: 0.718818\n",
      "Epoch 42, CIFAR-10 Batch 5:  train cost: 0.143032, validation accuracy: 0.728207\n",
      "Epoch 43, CIFAR-10 Batch 1:  train cost: 0.130994, validation accuracy: 0.722202\n",
      "Epoch 43, CIFAR-10 Batch 2:  train cost: 0.131377, validation accuracy: 0.740599\n",
      "Epoch 43, CIFAR-10 Batch 3:  train cost: 0.114953, validation accuracy: 0.74261\n",
      "Epoch 43, CIFAR-10 Batch 4:  train cost: 0.149867, validation accuracy: 0.714608\n",
      "Epoch 43, CIFAR-10 Batch 5:  train cost: 0.117889, validation accuracy: 0.735411\n",
      "Epoch 44, CIFAR-10 Batch 1:  train cost: 0.152429, validation accuracy: 0.707607\n",
      "Epoch 44, CIFAR-10 Batch 2:  train cost: 0.157556, validation accuracy: 0.733603\n",
      "Epoch 44, CIFAR-10 Batch 3:  train cost: 0.112832, validation accuracy: 0.739408\n",
      "Epoch 44, CIFAR-10 Batch 4:  train cost: 0.137001, validation accuracy: 0.723621\n",
      "Epoch 44, CIFAR-10 Batch 5:  train cost: 0.113286, validation accuracy: 0.741996\n",
      "Epoch 45, CIFAR-10 Batch 1:  train cost: 0.13961, validation accuracy: 0.719789\n",
      "Epoch 45, CIFAR-10 Batch 2:  train cost: 0.138184, validation accuracy: 0.735417\n",
      "Epoch 45, CIFAR-10 Batch 3:  train cost: 0.108155, validation accuracy: 0.74161\n",
      "Epoch 45, CIFAR-10 Batch 4:  train cost: 0.119289, validation accuracy: 0.723809\n",
      "Epoch 45, CIFAR-10 Batch 5:  train cost: 0.0952637, validation accuracy: 0.735992\n",
      "Epoch 46, CIFAR-10 Batch 1:  train cost: 0.127095, validation accuracy: 0.71359\n",
      "Epoch 46, CIFAR-10 Batch 2:  train cost: 0.141773, validation accuracy: 0.733206\n",
      "Epoch 46, CIFAR-10 Batch 3:  train cost: 0.0971689, validation accuracy: 0.744994\n",
      "Epoch 46, CIFAR-10 Batch 4:  train cost: 0.121626, validation accuracy: 0.730984\n",
      "Epoch 46, CIFAR-10 Batch 5:  train cost: 0.101696, validation accuracy: 0.736175\n",
      "Epoch 47, CIFAR-10 Batch 1:  train cost: 0.118437, validation accuracy: 0.731561\n",
      "Epoch 47, CIFAR-10 Batch 2:  train cost: 0.150035, validation accuracy: 0.723828\n",
      "Epoch 47, CIFAR-10 Batch 3:  train cost: 0.102557, validation accuracy: 0.737195\n",
      "Epoch 47, CIFAR-10 Batch 4:  train cost: 0.1233, validation accuracy: 0.734588\n",
      "Epoch 47, CIFAR-10 Batch 5:  train cost: 0.10961, validation accuracy: 0.738391\n",
      "Epoch 48, CIFAR-10 Batch 1:  train cost: 0.120627, validation accuracy: 0.731979\n",
      "Epoch 48, CIFAR-10 Batch 2:  train cost: 0.133671, validation accuracy: 0.728412\n",
      "Epoch 48, CIFAR-10 Batch 3:  train cost: 0.113372, validation accuracy: 0.7374\n",
      "Epoch 48, CIFAR-10 Batch 4:  train cost: 0.111546, validation accuracy: 0.732192\n",
      "Epoch 48, CIFAR-10 Batch 5:  train cost: 0.102763, validation accuracy: 0.737001\n",
      "Epoch 49, CIFAR-10 Batch 1:  train cost: 0.107764, validation accuracy: 0.735804\n",
      "Epoch 49, CIFAR-10 Batch 2:  train cost: 0.128562, validation accuracy: 0.7278\n",
      "Epoch 49, CIFAR-10 Batch 3:  train cost: 0.102566, validation accuracy: 0.735998\n",
      "Epoch 49, CIFAR-10 Batch 4:  train cost: 0.113478, validation accuracy: 0.734004\n",
      "Epoch 49, CIFAR-10 Batch 5:  train cost: 0.097651, validation accuracy: 0.737812\n",
      "Epoch 50, CIFAR-10 Batch 1:  train cost: 0.10316, validation accuracy: 0.742806\n",
      "Epoch 50, CIFAR-10 Batch 2:  train cost: 0.108831, validation accuracy: 0.737406\n",
      "Epoch 50, CIFAR-10 Batch 3:  train cost: 0.100111, validation accuracy: 0.73581\n",
      "Epoch 50, CIFAR-10 Batch 4:  train cost: 0.117751, validation accuracy: 0.726799\n",
      "Epoch 50, CIFAR-10 Batch 5:  train cost: 0.0972836, validation accuracy: 0.740015\n"
     ]
    }
   ],
   "source": [
    "\"\"\"\n",
    "DON'T MODIFY ANYTHING IN THIS CELL\n",
    "\"\"\"\n",
    "save_model_path = './image_classification'\n",
    "\n",
    "print('Training...')\n",
    "with tf.Session(config=config) as sess:\n",
    "    # Initializing the variables\n",
    "    sess.run(tf.global_variables_initializer())\n",
    "    \n",
    "    # Training cycle\n",
    "    for epoch in range(epochs):\n",
    "        # Loop over all batches\n",
    "        n_batches = 5\n",
    "        for batch_i in range(1, n_batches + 1):\n",
    "            for batch_features, batch_labels in helper.load_preprocess_training_batch(batch_i, batch_size):\n",
    "                train_neural_network(sess, optimizer, keep_probability, batch_features, batch_labels)\n",
    "            print('Epoch {:>2}, CIFAR-10 Batch {}:  '.format(epoch + 1, batch_i), end='')\n",
    "            print_stats(sess, batch_features, batch_labels, cost, accuracy)\n",
    "            \n",
    "    # Save Model\n",
    "    saver = tf.train.Saver()\n",
    "    save_path = saver.save(sess, save_model_path)"
   ]
  },
  {
   "cell_type": "markdown",
   "metadata": {},
   "source": [
    "# Checkpoint\n",
    "The model has been saved to disk.\n",
    "## Test Model\n",
    "Test your model against the test dataset.  This will be your final accuracy. You should have an accuracy greater than 50%. If you don't, keep tweaking the model architecture and parameters."
   ]
  },
  {
   "cell_type": "code",
   "execution_count": 18,
   "metadata": {},
   "outputs": [
    {
     "name": "stdout",
     "output_type": "stream",
     "text": [
      "INFO:tensorflow:Restoring parameters from ./image_classification\n",
      "Testing Accuracy: 0.7305893838405609\n",
      "\n"
     ]
    },
    {
     "data": {
      "image/png": "[encoded data removed]",
      "text/plain": [
       "<matplotlib.figure.Figure at 0x7fa3fef3ceb8>"
      ]
     },
     "metadata": {
      "image/png": {
       "height": 319,
       "width": 355
      }
     },
     "output_type": "display_data"
    }
   ],
   "source": [
    "\"\"\"\n",
    "DON'T MODIFY ANYTHING IN THIS CELL\n",
    "\"\"\"\n",
    "%matplotlib inline\n",
    "%config InlineBackend.figure_format = 'retina'\n",
    "\n",
    "import tensorflow as tf\n",
    "import pickle\n",
    "import helper\n",
    "import random\n",
    "\n",
    "# Set batch size if not already set\n",
    "try:\n",
    "    if batch_size:\n",
    "        pass\n",
    "except NameError:\n",
    "    batch_size = 64\n",
    "\n",
    "save_model_path = './image_classification'\n",
    "n_samples = 4\n",
    "top_n_predictions = 3\n",
    "\n",
    "def test_model():\n",
    "    \"\"\"\n",
    "    Test the saved model against the test dataset\n",
    "    \"\"\"\n",
    "\n",
    "    test_features, test_labels = pickle.load(open('preprocess_test.p', mode='rb'))\n",
    "    loaded_graph = tf.Graph()\n",
    "\n",
    "    with tf.Session(graph=loaded_graph) as sess:\n",
    "        # Load model\n",
    "        loader = tf.train.import_meta_graph(save_model_path + '.meta')\n",
    "        loader.restore(sess, save_model_path)\n",
    "\n",
    "        # Get Tensors from loaded model\n",
    "        loaded_x = loaded_graph.get_tensor_by_name('x:0')\n",
    "        loaded_y = loaded_graph.get_tensor_by_name('y:0')\n",
    "        loaded_keep_prob = loaded_graph.get_tensor_by_name('keep_prob:0')\n",
    "        loaded_logits = loaded_graph.get_tensor_by_name('logits:0')\n",
    "        loaded_acc = loaded_graph.get_tensor_by_name('accuracy:0')\n",
    "        \n",
    "        # Get accuracy in batches for memory limitations\n",
    "        test_batch_acc_total = 0\n",
    "        test_batch_count = 0\n",
    "        \n",
    "        for test_feature_batch, test_label_batch in helper.batch_features_labels(test_features, test_labels, batch_size):\n",
    "            test_batch_acc_total += sess.run(\n",
    "                loaded_acc,\n",
    "                feed_dict={loaded_x: test_feature_batch, loaded_y: test_label_batch, loaded_keep_prob: 1.0})\n",
    "            test_batch_count += 1\n",
    "\n",
    "        print('Testing Accuracy: {}\\n'.format(test_batch_acc_total/test_batch_count))\n",
    "\n",
    "        # Print Random Samples\n",
    "        random_test_features, random_test_labels = tuple(zip(*random.sample(list(zip(test_features, test_labels)), n_samples)))\n",
    "        random_test_predictions = sess.run(\n",
    "            tf.nn.top_k(tf.nn.softmax(loaded_logits), top_n_predictions),\n",
    "            feed_dict={loaded_x: random_test_features, loaded_y: random_test_labels, loaded_keep_prob: 1.0})\n",
    "        helper.display_image_predictions(random_test_features, random_test_labels, random_test_predictions)\n",
    "\n",
    "\n",
    "test_model()"
   ]
  },
  {
   "cell_type": "markdown",
   "metadata": {},
   "source": [
    "## Why 50-80% Accuracy?\n",
    "You might be wondering why you can't get an accuracy any higher. First things first, 50% isn't bad for a simple CNN.  Pure guessing would get you 10% accuracy. However, you might notice people are getting scores [well above 80%](http://rodrigob.github.io/are_we_there_yet/build/classification_datasets_results.html#43494641522d3130).  That's because we haven't taught you all there is to know about neural networks. We still need to cover a few more techniques.\n",
    "## Submitting This Project\n",
    "When submitting this project, make sure to run all the cells before saving the notebook.  Save the notebook file as \"dlnd_image_classification.ipynb\" and save it as a HTML file under \"File\" -> \"Download as\".  Include the \"helper.py\" and \"problem_unittests.py\" files in your submission."
   ]
  }
 ],
 "metadata": {
  "kernelspec": {
   "display_name": "Python 3",
   "language": "python",
   "name": "python3"
  },
  "language_info": {
   "codemirror_mode": {
    "name": "ipython",
    "version": 3
   },
   "file_extension": ".py",
   "mimetype": "text/x-python",
   "name": "python",
   "nbconvert_exporter": "python",
   "pygments_lexer": "ipython3",
   "version": "3.6.1"
  }
 },
 "nbformat": 4,
 "nbformat_minor": 1
}
