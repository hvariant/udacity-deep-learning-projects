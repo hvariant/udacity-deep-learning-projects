{
 "cells": [
  {
   "cell_type": "markdown",
   "metadata": {},
   "source": [
    "# TV Script Generation\n",
    "In this project, you'll generate your own [Simpsons](https://en.wikipedia.org/wiki/The_Simpsons) TV scripts using RNNs.  You'll be using part of the [Simpsons dataset](https://www.kaggle.com/wcukierski/the-simpsons-by-the-data) of scripts from 27 seasons.  The Neural Network you'll build will generate a new TV script for a scene at [Moe's Tavern](https://simpsonswiki.com/wiki/Moe's_Tavern).\n",
    "## Get the Data\n",
    "The data is already provided for you.  You'll be using a subset of the original dataset.  It consists of only the scenes in Moe's Tavern.  This doesn't include other versions of the tavern, like \"Moe's Cavern\", \"Flaming Moe's\", \"Uncle Moe's Family Feed-Bag\", etc.."
   ]
  },
  {
   "cell_type": "code",
   "execution_count": 1,
   "metadata": {
    "collapsed": true
   },
   "outputs": [],
   "source": [
    "\"\"\"\n",
    "DON'T MODIFY ANYTHING IN THIS CELL\n",
    "\"\"\"\n",
    "import helper\n",
    "\n",
    "data_dir = './data/simpsons/moes_tavern_lines.txt'\n",
    "text = helper.load_data(data_dir)\n",
    "# Ignore notice, since we don't use it for analysing the data\n",
    "text = text[81:]"
   ]
  },
  {
   "cell_type": "markdown",
   "metadata": {},
   "source": [
    "## Explore the Data\n",
    "Play around with `view_sentence_range` to view different parts of the data."
   ]
  },
  {
   "cell_type": "code",
   "execution_count": 2,
   "metadata": {
    "scrolled": true
   },
   "outputs": [
    {
     "name": "stdout",
     "output_type": "stream",
     "text": [
      "Dataset Stats\n",
      "Roughly the number of unique words: 11492\n",
      "Number of scenes: 262\n",
      "Average number of sentences in each scene: 15.248091603053435\n",
      "Number of lines: 4257\n",
      "Average number of words in each line: 11.50434578341555\n",
      "\n",
      "The sentences 20 to 40:\n",
      "\n",
      "Moe_Szyslak: Looks like this is the end.\n",
      "Barney_Gumble: That's all right. I couldn't have led a richer life.\n",
      "Barney_Gumble: So the next time somebody tells you county folk are good, honest people, you can spit in their faces for me!\n",
      "Lisa_Simpson: I will, Mr. Gumbel. But if you'll excuse me, I'm profiling my dad for the school paper. I thought it would be neat to follow him around for a day to see what makes him tick.\n",
      "Barney_Gumble: Oh, that's sweet. I used to follow my dad to a lot of bars too. (BELCH)\n",
      "Moe_Szyslak: Here you go. One beer, one chocolate milk.\n",
      "Lisa_Simpson: Uh, excuse me, I have the chocolate milk.\n",
      "Moe_Szyslak: Oh.\n",
      "Moe_Szyslak: What's the matter, Homer? The depressin' effects of alcohol usually don't kick in 'til closing time.\n",
      "Lisa_Simpson: He's just a little nervous. (PROUDLY) He has to give a speech tomorrow on \"How To Keep Cool In A Crisis.\"\n",
      "Homer_Simpson: (SOBS) What am I gonna do? What am I gonna do?\n",
      "Barney_Gumble: Hey, I had to give a speech once. I was pretty nervous, so I used a little trick. I pictured everyone in their underwear. The judge, the jury, my lawyer, everybody.\n",
      "Homer_Simpson: Did it work?\n",
      "Barney_Gumble: I'm a free man, ain't I?\n",
      "Barney_Gumble: Whoa!\n",
      "Barney_Gumble: Huh? A pretzel? Wow, looks like I pulled a Homer!\n",
      "\n",
      "\n",
      "Patrons: (MUMBLING, NOT IN UNISON) Happy thoughts... happy thoughts... we love that boy.\n"
     ]
    }
   ],
   "source": [
    "view_sentence_range = (20, 40)\n",
    "\n",
    "\"\"\"\n",
    "DON'T MODIFY ANYTHING IN THIS CELL\n",
    "\"\"\"\n",
    "import numpy as np\n",
    "\n",
    "print('Dataset Stats')\n",
    "print('Roughly the number of unique words: {}'.format(len({word: None for word in text.split()})))\n",
    "scenes = text.split('\\n\\n')\n",
    "print('Number of scenes: {}'.format(len(scenes)))\n",
    "sentence_count_scene = [scene.count('\\n') for scene in scenes]\n",
    "print('Average number of sentences in each scene: {}'.format(np.average(sentence_count_scene)))\n",
    "\n",
    "sentences = [sentence for scene in scenes for sentence in scene.split('\\n')]\n",
    "print('Number of lines: {}'.format(len(sentences)))\n",
    "word_count_sentence = [len(sentence.split()) for sentence in sentences]\n",
    "print('Average number of words in each line: {}'.format(np.average(word_count_sentence)))\n",
    "\n",
    "print()\n",
    "print('The sentences {} to {}:'.format(*view_sentence_range))\n",
    "print('\\n'.join(text.split('\\n')[view_sentence_range[0]:view_sentence_range[1]]))"
   ]
  },
  {
   "cell_type": "markdown",
   "metadata": {},
   "source": [
    "## Implement Preprocessing Functions\n",
    "The first thing to do to any dataset is preprocessing.  Implement the following preprocessing functions below:\n",
    "- Lookup Table\n",
    "- Tokenize Punctuation\n",
    "\n",
    "### Lookup Table\n",
    "To create a word embedding, you first need to transform the words to ids.  In this function, create two dictionaries:\n",
    "- Dictionary to go from the words to an id, we'll call `vocab_to_int`\n",
    "- Dictionary to go from the id to word, we'll call `int_to_vocab`\n",
    "\n",
    "Return these dictionaries in the following tuple `(vocab_to_int, int_to_vocab)`"
   ]
  },
  {
   "cell_type": "code",
   "execution_count": 3,
   "metadata": {},
   "outputs": [
    {
     "name": "stdout",
     "output_type": "stream",
     "text": [
      "Tests Passed\n"
     ]
    }
   ],
   "source": [
    "import numpy as np\n",
    "import problem_unittests as tests\n",
    "\n",
    "def create_lookup_tables(text):\n",
    "    \"\"\"\n",
    "    Create lookup tables for vocabulary\n",
    "    :param text: The text of tv scripts split into words\n",
    "    :return: A tuple of dicts (vocab_to_int, int_to_vocab)\n",
    "    \"\"\"\n",
    "    # DONE: Implement Function\n",
    "    \n",
    "    vocab_to_int = {}\n",
    "    int_to_vocab = {}\n",
    "    \n",
    "    k = 0\n",
    "    for word in text:\n",
    "        if word not in vocab_to_int:\n",
    "            vocab_to_int[word] = k\n",
    "            int_to_vocab[k] = word\n",
    "            \n",
    "            k += 1\n",
    "    \n",
    "    return vocab_to_int, int_to_vocab\n",
    "\n",
    "\n",
    "\"\"\"\n",
    "DON'T MODIFY ANYTHING IN THIS CELL THAT IS BELOW THIS LINE\n",
    "\"\"\"\n",
    "tests.test_create_lookup_tables(create_lookup_tables)"
   ]
  },
  {
   "cell_type": "markdown",
   "metadata": {},
   "source": [
    "### Tokenize Punctuation\n",
    "We'll be splitting the script into a word array using spaces as delimiters.  However, punctuations like periods and exclamation marks make it hard for the neural network to distinguish between the word \"bye\" and \"bye!\".\n",
    "\n",
    "Implement the function `token_lookup` to return a dict that will be used to tokenize symbols like \"!\" into \"||Exclamation_Mark||\".  Create a dictionary for the following symbols where the symbol is the key and value is the token:\n",
    "- Period ( . )\n",
    "- Comma ( , )\n",
    "- Quotation Mark ( \" )\n",
    "- Semicolon ( ; )\n",
    "- Exclamation mark ( ! )\n",
    "- Question mark ( ? )\n",
    "- Left Parentheses ( ( )\n",
    "- Right Parentheses ( ) )\n",
    "- Dash ( -- )\n",
    "- Return ( \\n )\n",
    "\n",
    "This dictionary will be used to token the symbols and add the delimiter (space) around it.  This separates the symbols as it's own word, making it easier for the neural network to predict on the next word. Make sure you don't use a token that could be confused as a word. Instead of using the token \"dash\", try using something like \"||dash||\"."
   ]
  },
  {
   "cell_type": "code",
   "execution_count": 4,
   "metadata": {},
   "outputs": [
    {
     "name": "stdout",
     "output_type": "stream",
     "text": [
      "Tests Passed\n"
     ]
    }
   ],
   "source": [
    "def token_lookup():\n",
    "    \"\"\"\n",
    "    Generate a dict to turn punctuation into a token.\n",
    "    :return: Tokenize dictionary where the key is the punctuation and the value is the token\n",
    "    \"\"\"\n",
    "    # DONE: Implement Function\n",
    "    return {\".\": \"||period||\",\n",
    "            \",\": \"||comma||\",\n",
    "           \"\\\"\": \"||quotation||\",\n",
    "           \";\": \"||semicolon||\",\n",
    "           \"!\": \"||exclamation_mark||\",\n",
    "           \"?\": \"||question_mark||\",\n",
    "           \"(\": \"||left_parentheses||\",\n",
    "           \")\": \"||right_parentheses||\",\n",
    "           \"--\": \"||dash||\",\n",
    "           \"\\n\": \"||return||\"}\n",
    "\n",
    "\"\"\"\n",
    "DON'T MODIFY ANYTHING IN THIS CELL THAT IS BELOW THIS LINE\n",
    "\"\"\"\n",
    "tests.test_tokenize(token_lookup)"
   ]
  },
  {
   "cell_type": "markdown",
   "metadata": {},
   "source": [
    "## Preprocess all the data and save it\n",
    "Running the code cell below will preprocess all the data and save it to file."
   ]
  },
  {
   "cell_type": "code",
   "execution_count": 5,
   "metadata": {
    "collapsed": true
   },
   "outputs": [],
   "source": [
    "\"\"\"\n",
    "DON'T MODIFY ANYTHING IN THIS CELL\n",
    "\"\"\"\n",
    "# Preprocess Training, Validation, and Testing Data\n",
    "helper.preprocess_and_save_data(data_dir, token_lookup, create_lookup_tables)"
   ]
  },
  {
   "cell_type": "markdown",
   "metadata": {},
   "source": [
    "# Check Point\n",
    "This is your first checkpoint. If you ever decide to come back to this notebook or have to restart the notebook, you can start from here. The preprocessed data has been saved to disk."
   ]
  },
  {
   "cell_type": "code",
   "execution_count": 6,
   "metadata": {
    "collapsed": true
   },
   "outputs": [],
   "source": [
    "\"\"\"\n",
    "DON'T MODIFY ANYTHING IN THIS CELL\n",
    "\"\"\"\n",
    "import helper\n",
    "import numpy as np\n",
    "import problem_unittests as tests\n",
    "\n",
    "int_text, vocab_to_int, int_to_vocab, token_dict = helper.load_preprocess()"
   ]
  },
  {
   "cell_type": "markdown",
   "metadata": {},
   "source": [
    "## Build the Neural Network\n",
    "You'll build the components necessary to build a RNN by implementing the following functions below:\n",
    "- get_inputs\n",
    "- get_init_cell\n",
    "- get_embed\n",
    "- build_rnn\n",
    "- build_nn\n",
    "- get_batches\n",
    "\n",
    "### Check the Version of TensorFlow and Access to GPU"
   ]
  },
  {
   "cell_type": "code",
   "execution_count": 7,
   "metadata": {},
   "outputs": [
    {
     "name": "stdout",
     "output_type": "stream",
     "text": [
      "TensorFlow Version: 1.2.1\n",
      "Default GPU Device: /gpu:0\n"
     ]
    }
   ],
   "source": [
    "\"\"\"\n",
    "DON'T MODIFY ANYTHING IN THIS CELL\n",
    "\"\"\"\n",
    "from distutils.version import LooseVersion\n",
    "import warnings\n",
    "import tensorflow as tf\n",
    "\n",
    "# Check TensorFlow Version\n",
    "assert LooseVersion(tf.__version__) >= LooseVersion('1.0'), 'Please use TensorFlow version 1.0 or newer'\n",
    "print('TensorFlow Version: {}'.format(tf.__version__))\n",
    "\n",
    "# Check for a GPU\n",
    "if not tf.test.gpu_device_name():\n",
    "    warnings.warn('No GPU found. Please use a GPU to train your neural network.')\n",
    "else:\n",
    "    print('Default GPU Device: {}'.format(tf.test.gpu_device_name()))"
   ]
  },
  {
   "cell_type": "markdown",
   "metadata": {},
   "source": [
    "### Input\n",
    "Implement the `get_inputs()` function to create TF Placeholders for the Neural Network.  It should create the following placeholders:\n",
    "- Input text placeholder named \"input\" using the [TF Placeholder](https://www.tensorflow.org/api_docs/python/tf/placeholder) `name` parameter.\n",
    "- Targets placeholder\n",
    "- Learning Rate placeholder\n",
    "\n",
    "Return the placeholders in the following tuple `(Input, Targets, LearningRate)`"
   ]
  },
  {
   "cell_type": "code",
   "execution_count": 8,
   "metadata": {},
   "outputs": [
    {
     "name": "stdout",
     "output_type": "stream",
     "text": [
      "Tests Passed\n"
     ]
    }
   ],
   "source": [
    "def get_inputs():\n",
    "    \"\"\"\n",
    "    Create TF Placeholders for input, targets, and learning rate.\n",
    "    :return: Tuple (input, targets, learning rate)\n",
    "    \"\"\"\n",
    "    # DONE: Implement Function\n",
    "    tf_input = tf.placeholder(tf.int32, shape=[None,None], name=\"input\")\n",
    "    tf_target = tf.placeholder(tf.int32, shape=[None,None], name=\"targets\")\n",
    "    tf_learning_rate = tf.placeholder(tf.float32, name=\"learning_rate\")\n",
    "    \n",
    "    return tf_input, tf_target, tf_learning_rate\n",
    "\n",
    "\n",
    "\"\"\"\n",
    "DON'T MODIFY ANYTHING IN THIS CELL THAT IS BELOW THIS LINE\n",
    "\"\"\"\n",
    "tests.test_get_inputs(get_inputs)"
   ]
  },
  {
   "cell_type": "markdown",
   "metadata": {},
   "source": [
    "### Build RNN Cell and Initialize\n",
    "Stack one or more [`BasicLSTMCells`](https://www.tensorflow.org/api_docs/python/tf/contrib/rnn/BasicLSTMCell) in a [`MultiRNNCell`](https://www.tensorflow.org/api_docs/python/tf/contrib/rnn/MultiRNNCell).\n",
    "- The Rnn size should be set using `rnn_size`\n",
    "- Initalize Cell State using the MultiRNNCell's [`zero_state()`](https://www.tensorflow.org/api_docs/python/tf/contrib/rnn/MultiRNNCell#zero_state) function\n",
    "    - Apply the name \"initial_state\" to the initial state using [`tf.identity()`](https://www.tensorflow.org/api_docs/python/tf/identity)\n",
    "\n",
    "Return the cell and initial state in the following tuple `(Cell, InitialState)`"
   ]
  },
  {
   "cell_type": "code",
   "execution_count": 9,
   "metadata": {},
   "outputs": [
    {
     "name": "stdout",
     "output_type": "stream",
     "text": [
      "Tests Passed\n"
     ]
    }
   ],
   "source": [
    "def get_init_cell(batch_size, rnn_size):\n",
    "    \"\"\"\n",
    "    Create an RNN Cell and initialize it.\n",
    "    :param batch_size: Size of batches\n",
    "    :param rnn_size: Size of RNNs\n",
    "    :return: Tuple (cell, initialize state)\n",
    "    \"\"\"\n",
    "    # DONE: Implement Function\n",
    "    cell = tf.contrib.rnn.MultiRNNCell([\n",
    "        tf.contrib.rnn.BasicLSTMCell(rnn_size),\n",
    "        tf.contrib.rnn.BasicLSTMCell(rnn_size)\n",
    "    ])\n",
    "    initial_state = cell.zero_state(batch_size, tf.float32)\n",
    "    return cell, tf.identity(initial_state, name=\"initial_state\")\n",
    "\n",
    "\n",
    "\"\"\"\n",
    "DON'T MODIFY ANYTHING IN THIS CELL THAT IS BELOW THIS LINE\n",
    "\"\"\"\n",
    "tests.test_get_init_cell(get_init_cell)"
   ]
  },
  {
   "cell_type": "markdown",
   "metadata": {},
   "source": [
    "### Word Embedding\n",
    "Apply embedding to `input_data` using TensorFlow.  Return the embedded sequence."
   ]
  },
  {
   "cell_type": "code",
   "execution_count": 10,
   "metadata": {},
   "outputs": [
    {
     "name": "stdout",
     "output_type": "stream",
     "text": [
      "Tests Passed\n"
     ]
    }
   ],
   "source": [
    "def get_embed(input_data, vocab_size, embed_dim):\n",
    "    \"\"\"\n",
    "    Create embedding for <input_data>.\n",
    "    :param input_data: TF placeholder for text input.\n",
    "    :param vocab_size: Number of words in vocabulary.\n",
    "    :param embed_dim: Number of embedding dimensions\n",
    "    :return: Embedded input.\n",
    "    \"\"\"\n",
    "    # DONE: Implement Function\n",
    "    \n",
    "    embedding = tf.Variable(tf.random_uniform((vocab_size, embed_dim), -1,1))\n",
    "    return tf.nn.embedding_lookup(embedding, input_data)\n",
    "\n",
    "\n",
    "\"\"\"\n",
    "DON'T MODIFY ANYTHING IN THIS CELL THAT IS BELOW THIS LINE\n",
    "\"\"\"\n",
    "tests.test_get_embed(get_embed)"
   ]
  },
  {
   "cell_type": "markdown",
   "metadata": {},
   "source": [
    "### Build RNN\n",
    "You created a RNN Cell in the `get_init_cell()` function.  Time to use the cell to create a RNN.\n",
    "- Build the RNN using the [`tf.nn.dynamic_rnn()`](https://www.tensorflow.org/api_docs/python/tf/nn/dynamic_rnn)\n",
    " - Apply the name \"final_state\" to the final state using [`tf.identity()`](https://www.tensorflow.org/api_docs/python/tf/identity)\n",
    "\n",
    "Return the outputs and final_state state in the following tuple `(Outputs, FinalState)` "
   ]
  },
  {
   "cell_type": "code",
   "execution_count": 11,
   "metadata": {},
   "outputs": [
    {
     "name": "stdout",
     "output_type": "stream",
     "text": [
      "Tests Passed\n"
     ]
    }
   ],
   "source": [
    "def build_rnn(cell, inputs):\n",
    "    \"\"\"\n",
    "    Create a RNN using a RNN Cell\n",
    "    :param cell: RNN Cell\n",
    "    :param inputs: Input text data\n",
    "    :return: Tuple (Outputs, Final State)\n",
    "    \"\"\"\n",
    "    # DONE: Implement Function\n",
    "    \n",
    "    outputs, final_state = tf.nn.dynamic_rnn(cell, inputs, dtype=tf.float32)\n",
    "    \n",
    "    return outputs, tf.identity(final_state, name=\"final_state\")\n",
    "\n",
    "\n",
    "\"\"\"\n",
    "DON'T MODIFY ANYTHING IN THIS CELL THAT IS BELOW THIS LINE\n",
    "\"\"\"\n",
    "tests.test_build_rnn(build_rnn)"
   ]
  },
  {
   "cell_type": "markdown",
   "metadata": {},
   "source": [
    "### Build the Neural Network\n",
    "Apply the functions you implemented above to:\n",
    "- Apply embedding to `input_data` using your `get_embed(input_data, vocab_size, embed_dim)` function.\n",
    "- Build RNN using `cell` and your `build_rnn(cell, inputs)` function.\n",
    "- Apply a fully connected layer with a linear activation and `vocab_size` as the number of outputs.\n",
    "\n",
    "Return the logits and final state in the following tuple (Logits, FinalState) "
   ]
  },
  {
   "cell_type": "code",
   "execution_count": 12,
   "metadata": {},
   "outputs": [
    {
     "name": "stdout",
     "output_type": "stream",
     "text": [
      "Tests Passed\n"
     ]
    }
   ],
   "source": [
    "def build_nn(cell, rnn_size, input_data, vocab_size, embed_dim):\n",
    "    \"\"\"\n",
    "    Build part of the neural network\n",
    "    :param cell: RNN cell\n",
    "    :param rnn_size: Size of rnns\n",
    "    :param input_data: Input data\n",
    "    :param vocab_size: Vocabulary size\n",
    "    :param embed_dim: Number of embedding dimensions\n",
    "    :return: Tuple (Logits, FinalState)\n",
    "    \"\"\"\n",
    "    # DONE: Implement Function\n",
    "    \n",
    "    embed = get_embed(input_data, vocab_size, embed_dim)\n",
    "    output, final_state = build_rnn(cell, embed)\n",
    "    # need to explicitly set activation to None to use linear activation\n",
    "    logits = tf.contrib.layers.fully_connected(output, vocab_size, activation_fn=None)\n",
    "    \n",
    "    return logits, final_state\n",
    "\n",
    "\n",
    "\"\"\"\n",
    "DON'T MODIFY ANYTHING IN THIS CELL THAT IS BELOW THIS LINE\n",
    "\"\"\"\n",
    "tests.test_build_nn(build_nn)"
   ]
  },
  {
   "cell_type": "markdown",
   "metadata": {},
   "source": [
    "### Batches\n",
    "Implement `get_batches` to create batches of input and targets using `int_text`.  The batches should be a Numpy array with the shape `(number of batches, 2, batch size, sequence length)`. Each batch contains two elements:\n",
    "- The first element is a single batch of **input** with the shape `[batch size, sequence length]`\n",
    "- The second element is a single batch of **targets** with the shape `[batch size, sequence length]`\n",
    "\n",
    "If you can't fill the last batch with enough data, drop the last batch.\n",
    "\n",
    "For exmple, `get_batches([1, 2, 3, 4, 5, 6, 7, 8, 9, 10, 11, 12, 13, 14, 15, 16, 17, 18, 19, 20], 3, 2)` would return a Numpy array of the following:\n",
    "```\n",
    "[\n",
    "  # First Batch\n",
    "  [\n",
    "    # Batch of Input\n",
    "    [[ 1  2], [ 7  8], [13 14]]\n",
    "    # Batch of targets\n",
    "    [[ 2  3], [ 8  9], [14 15]]\n",
    "  ]\n",
    "\n",
    "  # Second Batch\n",
    "  [\n",
    "    # Batch of Input\n",
    "    [[ 3  4], [ 9 10], [15 16]]\n",
    "    # Batch of targets\n",
    "    [[ 4  5], [10 11], [16 17]]\n",
    "  ]\n",
    "\n",
    "  # Third Batch\n",
    "  [\n",
    "    # Batch of Input\n",
    "    [[ 5  6], [11 12], [17 18]]\n",
    "    # Batch of targets\n",
    "    [[ 6  7], [12 13], [18  1]]\n",
    "  ]\n",
    "]\n",
    "```\n",
    "\n",
    "Notice that the last target value in the last batch is the first input value of the first batch. In this case, `1`. This is a common technique used when creating sequence batches, although it is rather unintuitive."
   ]
  },
  {
   "cell_type": "code",
   "execution_count": 13,
   "metadata": {},
   "outputs": [
    {
     "name": "stdout",
     "output_type": "stream",
     "text": [
      "Tests Passed\n"
     ]
    }
   ],
   "source": [
    "def get_batches(int_text, batch_size, seq_length):\n",
    "    \"\"\"\n",
    "    Return batches of input and target\n",
    "    :param int_text: Text with the words replaced by their ids\n",
    "    :param batch_size: The size of batch\n",
    "    :param seq_length: The length of sequence\n",
    "    :return: Batches as a Numpy array\n",
    "    \"\"\"\n",
    "    # DONE: Implement Function\n",
    "    \n",
    "    n_words = batch_size * seq_length\n",
    "    n_batches = len(int_text) // n_words\n",
    "    \n",
    "    batches = np.zeros((n_batches, 2, batch_size, seq_length), dtype=np.int32)\n",
    "    \n",
    "    inputs = int_text[:n_batches*n_words]\n",
    "    outputs = np.zeros(n_batches*n_words)\n",
    "    outputs[:-1], outputs[-1] = inputs[1:], inputs[0]\n",
    "    \n",
    "    inputs = np.reshape(inputs,(batch_size,-1))\n",
    "    outputs = np.reshape(outputs,(batch_size,-1))\n",
    "    for i in range(n_batches):\n",
    "        x_batch = inputs[:, i*seq_length:(i+1)*seq_length]\n",
    "        y_batch = outputs[:, i*seq_length:(i+1)*seq_length]\n",
    "        \n",
    "        batches[i,0,:,:] = x_batch\n",
    "        batches[i,1,:,:] = y_batch\n",
    "    \n",
    "    return batches\n",
    "\n",
    "\"\"\"\n",
    "DON'T MODIFY ANYTHING IN THIS CELL THAT IS BELOW THIS LINE\n",
    "\"\"\"\n",
    "tests.test_get_batches(get_batches)"
   ]
  },
  {
   "cell_type": "markdown",
   "metadata": {},
   "source": [
    "## Neural Network Training\n",
    "### Hyperparameters\n",
    "Tune the following parameters:\n",
    "\n",
    "- Set `num_epochs` to the number of epochs.\n",
    "- Set `batch_size` to the batch size.\n",
    "- Set `rnn_size` to the size of the RNNs.\n",
    "- Set `embed_dim` to the size of the embedding.\n",
    "- Set `seq_length` to the length of sequence.\n",
    "- Set `learning_rate` to the learning rate.\n",
    "- Set `show_every_n_batches` to the number of batches the neural network should print progress."
   ]
  },
  {
   "cell_type": "code",
   "execution_count": 14,
   "metadata": {
    "collapsed": true
   },
   "outputs": [],
   "source": [
    "# Number of Epochs\n",
    "num_epochs = 100\n",
    "# Batch Size\n",
    "batch_size = 128\n",
    "# RNN Size\n",
    "rnn_size = 512\n",
    "# Embedding Dimension Size\n",
    "embed_dim = 300\n",
    "# Sequence Length\n",
    "seq_length = 20\n",
    "# Learning Rate\n",
    "learning_rate = 0.01\n",
    "# Show stats for every n number of batches\n",
    "show_every_n_batches = 10\n",
    "\n",
    "\"\"\"\n",
    "DON'T MODIFY ANYTHING IN THIS CELL THAT IS BELOW THIS LINE\n",
    "\"\"\"\n",
    "save_dir = './save'"
   ]
  },
  {
   "cell_type": "markdown",
   "metadata": {},
   "source": [
    "### Build the Graph\n",
    "Build the graph using the neural network you implemented."
   ]
  },
  {
   "cell_type": "code",
   "execution_count": 15,
   "metadata": {
    "collapsed": true
   },
   "outputs": [],
   "source": [
    "\"\"\"\n",
    "DON'T MODIFY ANYTHING IN THIS CELL\n",
    "\"\"\"\n",
    "from tensorflow.contrib import seq2seq\n",
    "\n",
    "train_graph = tf.Graph()\n",
    "with train_graph.as_default():\n",
    "    vocab_size = len(int_to_vocab)\n",
    "    input_text, targets, lr = get_inputs()\n",
    "    input_data_shape = tf.shape(input_text)\n",
    "    cell, initial_state = get_init_cell(input_data_shape[0], rnn_size)\n",
    "    logits, final_state = build_nn(cell, rnn_size, input_text, vocab_size, embed_dim)\n",
    "\n",
    "    # Probabilities for generating words\n",
    "    probs = tf.nn.softmax(logits, name='probs')\n",
    "\n",
    "    # Loss function\n",
    "    cost = seq2seq.sequence_loss(\n",
    "        logits,\n",
    "        targets,\n",
    "        tf.ones([input_data_shape[0], input_data_shape[1]]))\n",
    "\n",
    "    # Optimizer\n",
    "    optimizer = tf.train.AdamOptimizer(lr)\n",
    "\n",
    "    # Gradient Clipping\n",
    "    gradients = optimizer.compute_gradients(cost)\n",
    "    capped_gradients = [(tf.clip_by_value(grad, -1., 1.), var) for grad, var in gradients if grad is not None]\n",
    "    train_op = optimizer.apply_gradients(capped_gradients)"
   ]
  },
  {
   "cell_type": "markdown",
   "metadata": {},
   "source": [
    "## Train\n",
    "Train the neural network on the preprocessed data.  If you have a hard time getting a good loss, check the [forums](https://discussions.udacity.com/) to see if anyone is having the same problem."
   ]
  },
  {
   "cell_type": "code",
   "execution_count": 16,
   "metadata": {
    "scrolled": true
   },
   "outputs": [
    {
     "name": "stdout",
     "output_type": "stream",
     "text": [
      "Epoch   0 Batch    0/26   train_loss = 8.822\n",
      "Epoch   0 Batch   10/26   train_loss = 6.871\n",
      "Epoch   0 Batch   20/26   train_loss = 6.750\n",
      "Epoch   1 Batch    4/26   train_loss = 6.335\n",
      "Epoch   1 Batch   14/26   train_loss = 6.177\n",
      "Epoch   1 Batch   24/26   train_loss = 6.217\n",
      "Epoch   2 Batch    8/26   train_loss = 6.062\n",
      "Epoch   2 Batch   18/26   train_loss = 5.915\n",
      "Epoch   3 Batch    2/26   train_loss = 5.571\n",
      "Epoch   3 Batch   12/26   train_loss = 5.655\n",
      "Epoch   3 Batch   22/26   train_loss = 5.086\n",
      "Epoch   4 Batch    6/26   train_loss = 5.111\n",
      "Epoch   4 Batch   16/26   train_loss = 4.915\n",
      "Epoch   5 Batch    0/26   train_loss = 4.782\n",
      "Epoch   5 Batch   10/26   train_loss = 4.697\n",
      "Epoch   5 Batch   20/26   train_loss = 4.639\n",
      "Epoch   6 Batch    4/26   train_loss = 4.575\n",
      "Epoch   6 Batch   14/26   train_loss = 4.473\n",
      "Epoch   6 Batch   24/26   train_loss = 4.478\n",
      "Epoch   7 Batch    8/26   train_loss = 4.390\n",
      "Epoch   7 Batch   18/26   train_loss = 4.367\n",
      "Epoch   8 Batch    2/26   train_loss = 4.302\n",
      "Epoch   8 Batch   12/26   train_loss = 4.379\n",
      "Epoch   8 Batch   22/26   train_loss = 4.117\n",
      "Epoch   9 Batch    6/26   train_loss = 4.163\n",
      "Epoch   9 Batch   16/26   train_loss = 4.056\n",
      "Epoch  10 Batch    0/26   train_loss = 3.919\n",
      "Epoch  10 Batch   10/26   train_loss = 3.897\n",
      "Epoch  10 Batch   20/26   train_loss = 3.815\n",
      "Epoch  11 Batch    4/26   train_loss = 3.818\n",
      "Epoch  11 Batch   14/26   train_loss = 3.684\n",
      "Epoch  11 Batch   24/26   train_loss = 3.602\n",
      "Epoch  12 Batch    8/26   train_loss = 3.606\n",
      "Epoch  12 Batch   18/26   train_loss = 3.540\n",
      "Epoch  13 Batch    2/26   train_loss = 3.529\n",
      "Epoch  13 Batch   12/26   train_loss = 3.541\n",
      "Epoch  13 Batch   22/26   train_loss = 3.287\n",
      "Epoch  14 Batch    6/26   train_loss = 3.367\n",
      "Epoch  14 Batch   16/26   train_loss = 3.262\n",
      "Epoch  15 Batch    0/26   train_loss = 3.139\n",
      "Epoch  15 Batch   10/26   train_loss = 3.093\n",
      "Epoch  15 Batch   20/26   train_loss = 2.968\n",
      "Epoch  16 Batch    4/26   train_loss = 2.985\n",
      "Epoch  16 Batch   14/26   train_loss = 2.902\n",
      "Epoch  16 Batch   24/26   train_loss = 2.804\n",
      "Epoch  17 Batch    8/26   train_loss = 2.809\n",
      "Epoch  17 Batch   18/26   train_loss = 2.768\n",
      "Epoch  18 Batch    2/26   train_loss = 2.789\n",
      "Epoch  18 Batch   12/26   train_loss = 2.677\n",
      "Epoch  18 Batch   22/26   train_loss = 2.635\n",
      "Epoch  19 Batch    6/26   train_loss = 2.579\n",
      "Epoch  19 Batch   16/26   train_loss = 2.563\n",
      "Epoch  20 Batch    0/26   train_loss = 2.560\n",
      "Epoch  20 Batch   10/26   train_loss = 2.421\n",
      "Epoch  20 Batch   20/26   train_loss = 2.284\n",
      "Epoch  21 Batch    4/26   train_loss = 2.312\n",
      "Epoch  21 Batch   14/26   train_loss = 2.157\n",
      "Epoch  21 Batch   24/26   train_loss = 2.068\n",
      "Epoch  22 Batch    8/26   train_loss = 2.052\n",
      "Epoch  22 Batch   18/26   train_loss = 2.008\n",
      "Epoch  23 Batch    2/26   train_loss = 2.041\n",
      "Epoch  23 Batch   12/26   train_loss = 1.891\n",
      "Epoch  23 Batch   22/26   train_loss = 1.856\n",
      "Epoch  24 Batch    6/26   train_loss = 1.750\n",
      "Epoch  24 Batch   16/26   train_loss = 1.759\n",
      "Epoch  25 Batch    0/26   train_loss = 1.751\n",
      "Epoch  25 Batch   10/26   train_loss = 1.660\n",
      "Epoch  25 Batch   20/26   train_loss = 1.539\n",
      "Epoch  26 Batch    4/26   train_loss = 1.590\n",
      "Epoch  26 Batch   14/26   train_loss = 1.410\n",
      "Epoch  26 Batch   24/26   train_loss = 1.433\n",
      "Epoch  27 Batch    8/26   train_loss = 1.455\n",
      "Epoch  27 Batch   18/26   train_loss = 1.366\n",
      "Epoch  28 Batch    2/26   train_loss = 1.451\n",
      "Epoch  28 Batch   12/26   train_loss = 1.304\n",
      "Epoch  28 Batch   22/26   train_loss = 1.327\n",
      "Epoch  29 Batch    6/26   train_loss = 1.256\n",
      "Epoch  29 Batch   16/26   train_loss = 1.258\n",
      "Epoch  30 Batch    0/26   train_loss = 1.277\n",
      "Epoch  30 Batch   10/26   train_loss = 1.234\n",
      "Epoch  30 Batch   20/26   train_loss = 1.107\n",
      "Epoch  31 Batch    4/26   train_loss = 1.139\n",
      "Epoch  31 Batch   14/26   train_loss = 1.058\n",
      "Epoch  31 Batch   24/26   train_loss = 1.005\n",
      "Epoch  32 Batch    8/26   train_loss = 1.049\n",
      "Epoch  32 Batch   18/26   train_loss = 1.008\n",
      "Epoch  33 Batch    2/26   train_loss = 0.996\n",
      "Epoch  33 Batch   12/26   train_loss = 0.982\n",
      "Epoch  33 Batch   22/26   train_loss = 0.944\n",
      "Epoch  34 Batch    6/26   train_loss = 0.894\n",
      "Epoch  34 Batch   16/26   train_loss = 0.987\n",
      "Epoch  35 Batch    0/26   train_loss = 0.925\n",
      "Epoch  35 Batch   10/26   train_loss = 0.931\n",
      "Epoch  35 Batch   20/26   train_loss = 0.849\n",
      "Epoch  36 Batch    4/26   train_loss = 0.834\n",
      "Epoch  36 Batch   14/26   train_loss = 0.819\n",
      "Epoch  36 Batch   24/26   train_loss = 0.745\n",
      "Epoch  37 Batch    8/26   train_loss = 0.809\n",
      "Epoch  37 Batch   18/26   train_loss = 0.773\n",
      "Epoch  38 Batch    2/26   train_loss = 0.752\n",
      "Epoch  38 Batch   12/26   train_loss = 0.708\n",
      "Epoch  38 Batch   22/26   train_loss = 0.706\n",
      "Epoch  39 Batch    6/26   train_loss = 0.655\n",
      "Epoch  39 Batch   16/26   train_loss = 0.690\n",
      "Epoch  40 Batch    0/26   train_loss = 0.655\n",
      "Epoch  40 Batch   10/26   train_loss = 0.618\n",
      "Epoch  40 Batch   20/26   train_loss = 0.545\n",
      "Epoch  41 Batch    4/26   train_loss = 0.527\n",
      "Epoch  41 Batch   14/26   train_loss = 0.511\n",
      "Epoch  41 Batch   24/26   train_loss = 0.469\n",
      "Epoch  42 Batch    8/26   train_loss = 0.487\n",
      "Epoch  42 Batch   18/26   train_loss = 0.467\n",
      "Epoch  43 Batch    2/26   train_loss = 0.442\n",
      "Epoch  43 Batch   12/26   train_loss = 0.403\n",
      "Epoch  43 Batch   22/26   train_loss = 0.423\n",
      "Epoch  44 Batch    6/26   train_loss = 0.399\n",
      "Epoch  44 Batch   16/26   train_loss = 0.417\n",
      "Epoch  45 Batch    0/26   train_loss = 0.381\n",
      "Epoch  45 Batch   10/26   train_loss = 0.390\n",
      "Epoch  45 Batch   20/26   train_loss = 0.351\n",
      "Epoch  46 Batch    4/26   train_loss = 0.349\n",
      "Epoch  46 Batch   14/26   train_loss = 0.322\n",
      "Epoch  46 Batch   24/26   train_loss = 0.280\n",
      "Epoch  47 Batch    8/26   train_loss = 0.343\n",
      "Epoch  47 Batch   18/26   train_loss = 0.300\n",
      "Epoch  48 Batch    2/26   train_loss = 0.275\n",
      "Epoch  48 Batch   12/26   train_loss = 0.244\n",
      "Epoch  48 Batch   22/26   train_loss = 0.273\n",
      "Epoch  49 Batch    6/26   train_loss = 0.255\n",
      "Epoch  49 Batch   16/26   train_loss = 0.264\n",
      "Epoch  50 Batch    0/26   train_loss = 0.235\n",
      "Epoch  50 Batch   10/26   train_loss = 0.254\n",
      "Epoch  50 Batch   20/26   train_loss = 0.230\n",
      "Epoch  51 Batch    4/26   train_loss = 0.211\n",
      "Epoch  51 Batch   14/26   train_loss = 0.212\n",
      "Epoch  51 Batch   24/26   train_loss = 0.183\n",
      "Epoch  52 Batch    8/26   train_loss = 0.209\n",
      "Epoch  52 Batch   18/26   train_loss = 0.195\n",
      "Epoch  53 Batch    2/26   train_loss = 0.189\n",
      "Epoch  53 Batch   12/26   train_loss = 0.180\n",
      "Epoch  53 Batch   22/26   train_loss = 0.197\n",
      "Epoch  54 Batch    6/26   train_loss = 0.180\n",
      "Epoch  54 Batch   16/26   train_loss = 0.198\n",
      "Epoch  55 Batch    0/26   train_loss = 0.180\n",
      "Epoch  55 Batch   10/26   train_loss = 0.193\n",
      "Epoch  55 Batch   20/26   train_loss = 0.174\n",
      "Epoch  56 Batch    4/26   train_loss = 0.165\n",
      "Epoch  56 Batch   14/26   train_loss = 0.171\n",
      "Epoch  56 Batch   24/26   train_loss = 0.152\n",
      "Epoch  57 Batch    8/26   train_loss = 0.170\n",
      "Epoch  57 Batch   18/26   train_loss = 0.162\n",
      "Epoch  58 Batch    2/26   train_loss = 0.167\n",
      "Epoch  58 Batch   12/26   train_loss = 0.153\n",
      "Epoch  58 Batch   22/26   train_loss = 0.172\n",
      "Epoch  59 Batch    6/26   train_loss = 0.159\n",
      "Epoch  59 Batch   16/26   train_loss = 0.176\n",
      "Epoch  60 Batch    0/26   train_loss = 0.161\n",
      "Epoch  60 Batch   10/26   train_loss = 0.176\n",
      "Epoch  60 Batch   20/26   train_loss = 0.164\n",
      "Epoch  61 Batch    4/26   train_loss = 0.150\n",
      "Epoch  61 Batch   14/26   train_loss = 0.160\n",
      "Epoch  61 Batch   24/26   train_loss = 0.140\n",
      "Epoch  62 Batch    8/26   train_loss = 0.156\n",
      "Epoch  62 Batch   18/26   train_loss = 0.153\n",
      "Epoch  63 Batch    2/26   train_loss = 0.156\n",
      "Epoch  63 Batch   12/26   train_loss = 0.147\n",
      "Epoch  63 Batch   22/26   train_loss = 0.165\n",
      "Epoch  64 Batch    6/26   train_loss = 0.154\n",
      "Epoch  64 Batch   16/26   train_loss = 0.169\n",
      "Epoch  65 Batch    0/26   train_loss = 0.155\n",
      "Epoch  65 Batch   10/26   train_loss = 0.168\n",
      "Epoch  65 Batch   20/26   train_loss = 0.157\n",
      "Epoch  66 Batch    4/26   train_loss = 0.145\n",
      "Epoch  66 Batch   14/26   train_loss = 0.157\n",
      "Epoch  66 Batch   24/26   train_loss = 0.136\n",
      "Epoch  67 Batch    8/26   train_loss = 0.154\n",
      "Epoch  67 Batch   18/26   train_loss = 0.150\n",
      "Epoch  68 Batch    2/26   train_loss = 0.155\n",
      "Epoch  68 Batch   12/26   train_loss = 0.143\n",
      "Epoch  68 Batch   22/26   train_loss = 0.161\n",
      "Epoch  69 Batch    6/26   train_loss = 0.151\n",
      "Epoch  69 Batch   16/26   train_loss = 0.166\n",
      "Epoch  70 Batch    0/26   train_loss = 0.152\n"
     ]
    },
    {
     "name": "stdout",
     "output_type": "stream",
     "text": [
      "Epoch  70 Batch   10/26   train_loss = 0.166\n",
      "Epoch  70 Batch   20/26   train_loss = 0.156\n",
      "Epoch  71 Batch    4/26   train_loss = 0.144\n",
      "Epoch  71 Batch   14/26   train_loss = 0.155\n",
      "Epoch  71 Batch   24/26   train_loss = 0.135\n",
      "Epoch  72 Batch    8/26   train_loss = 0.152\n",
      "Epoch  72 Batch   18/26   train_loss = 0.149\n",
      "Epoch  73 Batch    2/26   train_loss = 0.152\n",
      "Epoch  73 Batch   12/26   train_loss = 0.142\n",
      "Epoch  73 Batch   22/26   train_loss = 0.160\n",
      "Epoch  74 Batch    6/26   train_loss = 0.150\n",
      "Epoch  74 Batch   16/26   train_loss = 0.165\n",
      "Epoch  75 Batch    0/26   train_loss = 0.151\n",
      "Epoch  75 Batch   10/26   train_loss = 0.163\n",
      "Epoch  75 Batch   20/26   train_loss = 0.153\n",
      "Epoch  76 Batch    4/26   train_loss = 0.142\n",
      "Epoch  76 Batch   14/26   train_loss = 0.153\n",
      "Epoch  76 Batch   24/26   train_loss = 0.134\n",
      "Epoch  77 Batch    8/26   train_loss = 0.151\n",
      "Epoch  77 Batch   18/26   train_loss = 0.148\n",
      "Epoch  78 Batch    2/26   train_loss = 0.152\n",
      "Epoch  78 Batch   12/26   train_loss = 0.140\n",
      "Epoch  78 Batch   22/26   train_loss = 0.159\n",
      "Epoch  79 Batch    6/26   train_loss = 0.149\n",
      "Epoch  79 Batch   16/26   train_loss = 0.164\n",
      "Epoch  80 Batch    0/26   train_loss = 0.150\n",
      "Epoch  80 Batch   10/26   train_loss = 0.164\n",
      "Epoch  80 Batch   20/26   train_loss = 0.153\n",
      "Epoch  81 Batch    4/26   train_loss = 0.142\n",
      "Epoch  81 Batch   14/26   train_loss = 0.154\n",
      "Epoch  81 Batch   24/26   train_loss = 0.133\n",
      "Epoch  82 Batch    8/26   train_loss = 0.149\n",
      "Epoch  82 Batch   18/26   train_loss = 0.147\n",
      "Epoch  83 Batch    2/26   train_loss = 0.151\n",
      "Epoch  83 Batch   12/26   train_loss = 0.141\n",
      "Epoch  83 Batch   22/26   train_loss = 0.159\n",
      "Epoch  84 Batch    6/26   train_loss = 0.149\n",
      "Epoch  84 Batch   16/26   train_loss = 0.163\n",
      "Epoch  85 Batch    0/26   train_loss = 0.149\n",
      "Epoch  85 Batch   10/26   train_loss = 0.162\n",
      "Epoch  85 Batch   20/26   train_loss = 0.152\n",
      "Epoch  86 Batch    4/26   train_loss = 0.141\n",
      "Epoch  86 Batch   14/26   train_loss = 0.152\n",
      "Epoch  86 Batch   24/26   train_loss = 0.133\n",
      "Epoch  87 Batch    8/26   train_loss = 0.150\n",
      "Epoch  87 Batch   18/26   train_loss = 0.147\n",
      "Epoch  88 Batch    2/26   train_loss = 0.151\n",
      "Epoch  88 Batch   12/26   train_loss = 0.140\n",
      "Epoch  88 Batch   22/26   train_loss = 0.158\n",
      "Epoch  89 Batch    6/26   train_loss = 0.148\n",
      "Epoch  89 Batch   16/26   train_loss = 0.163\n",
      "Epoch  90 Batch    0/26   train_loss = 0.149\n",
      "Epoch  90 Batch   10/26   train_loss = 0.163\n",
      "Epoch  90 Batch   20/26   train_loss = 0.153\n",
      "Epoch  91 Batch    4/26   train_loss = 0.141\n",
      "Epoch  91 Batch   14/26   train_loss = 0.152\n",
      "Epoch  91 Batch   24/26   train_loss = 0.132\n",
      "Epoch  92 Batch    8/26   train_loss = 0.148\n",
      "Epoch  92 Batch   18/26   train_loss = 0.146\n",
      "Epoch  93 Batch    2/26   train_loss = 0.150\n",
      "Epoch  93 Batch   12/26   train_loss = 0.140\n",
      "Epoch  93 Batch   22/26   train_loss = 0.158\n",
      "Epoch  94 Batch    6/26   train_loss = 0.148\n",
      "Epoch  94 Batch   16/26   train_loss = 0.163\n",
      "Epoch  95 Batch    0/26   train_loss = 0.149\n",
      "Epoch  95 Batch   10/26   train_loss = 0.161\n",
      "Epoch  95 Batch   20/26   train_loss = 0.151\n",
      "Epoch  96 Batch    4/26   train_loss = 0.141\n",
      "Epoch  96 Batch   14/26   train_loss = 0.152\n",
      "Epoch  96 Batch   24/26   train_loss = 0.132\n",
      "Epoch  97 Batch    8/26   train_loss = 0.149\n",
      "Epoch  97 Batch   18/26   train_loss = 0.146\n",
      "Epoch  98 Batch    2/26   train_loss = 0.150\n",
      "Epoch  98 Batch   12/26   train_loss = 0.139\n",
      "Epoch  98 Batch   22/26   train_loss = 0.157\n",
      "Epoch  99 Batch    6/26   train_loss = 0.148\n",
      "Epoch  99 Batch   16/26   train_loss = 0.163\n",
      "Model Trained and Saved\n"
     ]
    }
   ],
   "source": [
    "\"\"\"\n",
    "DON'T MODIFY ANYTHING IN THIS CELL\n",
    "\"\"\"\n",
    "batches = get_batches(int_text, batch_size, seq_length)\n",
    "\n",
    "with tf.Session(graph=train_graph) as sess:\n",
    "    sess.run(tf.global_variables_initializer())\n",
    "\n",
    "    for epoch_i in range(num_epochs):\n",
    "        state = sess.run(initial_state, {input_text: batches[0][0]})\n",
    "\n",
    "        for batch_i, (x, y) in enumerate(batches):\n",
    "            feed = {\n",
    "                input_text: x,\n",
    "                targets: y,\n",
    "                initial_state: state,\n",
    "                lr: learning_rate}\n",
    "            train_loss, state, _ = sess.run([cost, final_state, train_op], feed)\n",
    "\n",
    "            # Show every <show_every_n_batches> batches\n",
    "            if (epoch_i * len(batches) + batch_i) % show_every_n_batches == 0:\n",
    "                print('Epoch {:>3} Batch {:>4}/{}   train_loss = {:.3f}'.format(\n",
    "                    epoch_i,\n",
    "                    batch_i,\n",
    "                    len(batches),\n",
    "                    train_loss))\n",
    "\n",
    "    # Save Model\n",
    "    saver = tf.train.Saver()\n",
    "    saver.save(sess, save_dir)\n",
    "    print('Model Trained and Saved')"
   ]
  },
  {
   "cell_type": "markdown",
   "metadata": {},
   "source": [
    "## Save Parameters\n",
    "Save `seq_length` and `save_dir` for generating a new TV script."
   ]
  },
  {
   "cell_type": "code",
   "execution_count": 17,
   "metadata": {
    "collapsed": true
   },
   "outputs": [],
   "source": [
    "\"\"\"\n",
    "DON'T MODIFY ANYTHING IN THIS CELL\n",
    "\"\"\"\n",
    "# Save parameters for checkpoint\n",
    "helper.save_params((seq_length, save_dir))"
   ]
  },
  {
   "cell_type": "markdown",
   "metadata": {},
   "source": [
    "# Checkpoint"
   ]
  },
  {
   "cell_type": "code",
   "execution_count": 18,
   "metadata": {
    "collapsed": true
   },
   "outputs": [],
   "source": [
    "\"\"\"\n",
    "DON'T MODIFY ANYTHING IN THIS CELL\n",
    "\"\"\"\n",
    "import tensorflow as tf\n",
    "import numpy as np\n",
    "import helper\n",
    "import problem_unittests as tests\n",
    "\n",
    "_, vocab_to_int, int_to_vocab, token_dict = helper.load_preprocess()\n",
    "seq_length, load_dir = helper.load_params()"
   ]
  },
  {
   "cell_type": "markdown",
   "metadata": {},
   "source": [
    "## Implement Generate Functions\n",
    "### Get Tensors\n",
    "Get tensors from `loaded_graph` using the function [`get_tensor_by_name()`](https://www.tensorflow.org/api_docs/python/tf/Graph#get_tensor_by_name).  Get the tensors using the following names:\n",
    "- \"input:0\"\n",
    "- \"initial_state:0\"\n",
    "- \"final_state:0\"\n",
    "- \"probs:0\"\n",
    "\n",
    "Return the tensors in the following tuple `(InputTensor, InitialStateTensor, FinalStateTensor, ProbsTensor)` "
   ]
  },
  {
   "cell_type": "code",
   "execution_count": 19,
   "metadata": {},
   "outputs": [
    {
     "name": "stdout",
     "output_type": "stream",
     "text": [
      "Tests Passed\n"
     ]
    }
   ],
   "source": [
    "def get_tensors(loaded_graph):\n",
    "    \"\"\"\n",
    "    Get input, initial state, final state, and probabilities tensor from <loaded_graph>\n",
    "    :param loaded_graph: TensorFlow graph loaded from file\n",
    "    :return: Tuple (InputTensor, InitialStateTensor, FinalStateTensor, ProbsTensor)\n",
    "    \"\"\"\n",
    "    # DONE: Implement Function\n",
    "    x_input = loaded_graph.get_tensor_by_name(\"input:0\")\n",
    "    x_initial_state = loaded_graph.get_tensor_by_name(\"initial_state:0\")\n",
    "    x_final_state = loaded_graph.get_tensor_by_name(\"final_state:0\")\n",
    "    x_probs = loaded_graph.get_tensor_by_name(\"probs:0\")\n",
    "    return x_input, x_initial_state, x_final_state, x_probs\n",
    "\n",
    "\n",
    "\"\"\"\n",
    "DON'T MODIFY ANYTHING IN THIS CELL THAT IS BELOW THIS LINE\n",
    "\"\"\"\n",
    "tests.test_get_tensors(get_tensors)"
   ]
  },
  {
   "cell_type": "markdown",
   "metadata": {},
   "source": [
    "### Choose Word\n",
    "Implement the `pick_word()` function to select the next word using `probabilities`."
   ]
  },
  {
   "cell_type": "code",
   "execution_count": 20,
   "metadata": {},
   "outputs": [
    {
     "name": "stdout",
     "output_type": "stream",
     "text": [
      "Tests Passed\n"
     ]
    }
   ],
   "source": [
    "def pick_word(probabilities, int_to_vocab):\n",
    "    \"\"\"\n",
    "    Pick the next word in the generated text\n",
    "    :param probabilities: Probabilites of the next word\n",
    "    :param int_to_vocab: Dictionary of word ids as the keys and words as the values\n",
    "    :return: String of the predicted word\n",
    "    \"\"\"\n",
    "    # DONE: Implement Function\n",
    "\n",
    "    n_words = np.max(probabilities.shape)\n",
    "    probabilities = np.reshape(probabilities, n_words)\n",
    "    \n",
    "    k = np.random.choice(np.arange(n_words), 1, p=probabilities)[0]\n",
    "    \n",
    "    return int_to_vocab[k]\n",
    "\n",
    "\n",
    "\"\"\"\n",
    "DON'T MODIFY ANYTHING IN THIS CELL THAT IS BELOW THIS LINE\n",
    "\"\"\"\n",
    "tests.test_pick_word(pick_word)"
   ]
  },
  {
   "cell_type": "markdown",
   "metadata": {},
   "source": [
    "## Generate TV Script\n",
    "This will generate the TV script for you.  Set `gen_length` to the length of TV script you want to generate."
   ]
  },
  {
   "cell_type": "code",
   "execution_count": 23,
   "metadata": {
    "scrolled": false
   },
   "outputs": [
    {
     "name": "stdout",
     "output_type": "stream",
     "text": [
      "INFO:tensorflow:Restoring parameters from ./save\n",
      "homer_simpson: now, now, i won't hear of it, moe. you're a fabulous catch.\n",
      "moe_szyslak:(sing) si-lent night / ho-ly night\n",
      "moe_szyslak:(happy) i'm just saying you'd say the school time we die.\n",
      "\n",
      "\n",
      "moe_szyslak: i like some of these... give her in here?\n",
      "homer_simpson: i don't get it.\n",
      "bart_simpson:(singing) hello...\n",
      "homer_simpson:(singing) na na na na / na na na na /\n",
      "barflies:(reading)\" absolutely no tv,\" pop o'problem.\" i'm a bad friend, where me the game is snake off the ointment airport motor lodge.\"\n",
      "moe_szyslak: hey, homer, what am i gonna do?\n",
      "moe_szyslak: great. first name, moe.\n",
      "moe_szyslak:(nervous chuckle) hey, stupid, wait, i didn't.\n",
      "homer_simpson: barney, you gotta help me here.\n",
      "lenny_leonard: i didn't say the alphabet!\n",
      "moe_szyslak: easy, homer. i am no looks as we called you your foot down on their left.\n",
      "moe_szyslak: it's too late to turn back.\n",
      "moe_szyslak:(drunk) no, honey. this is the charming beloved of my, man.\n",
      "homer_simpson: aw, is that windex?\n",
      "\n",
      "\n",
      "homer_simpson:(runs in) hey moe, this man, amazed out the japanese and life\" week a favor.\"\n",
      "c. _montgomery_burns: at five-fifteen career, i have a place for a lot of water.\n",
      "moe_szyslak: hey? how 'bout the dad? my. it was a man clean in the house.\n",
      "moe_szyslak: hey, homer. if(disgusted) so long, business is slow. he pays a beer.\n",
      "duffman:(not so loud) oh, hey, hey.\n",
      "homer_simpson: yeah, you'd treat her right.\n",
      "moe_szyslak:(frustrated) hey, no enjoyin' it! / oh boy!\n",
      "homer_simpson: ooo, this is a good wire... this is heaven.(sips beer)\n",
      "\n",
      "\n",
      "homer_simpson:(getting nervous) oh, cold room to be their pants.\n",
      "moe_szyslak: you know, i mean talking, who are you,(big girl) no, my...(looks at the glass of his buttons.\n",
      "moe_szyslak: this is the beer, moe.\n",
      "moe_szyslak: oh, homer. i never made friends?\n",
      "homer_simpson: number no funny!\n",
      "moe_szyslak: shut up and tip.\n",
      "kirk_van_houten: i can provide that home.\n",
      "homer_simpson:(disappointed) awwww.\n",
      "homer_simpson:(looking at homer) ah... oh.\n",
      "homer_simpson:(loud) did you ever help me?\n"
     ]
    }
   ],
   "source": [
    "gen_length = 500\n",
    "# homer_simpson, moe_szyslak, or Barney_Gumble\n",
    "prime_word = 'homer_simpson'\n",
    "\n",
    "\"\"\"\n",
    "DON'T MODIFY ANYTHING IN THIS CELL THAT IS BELOW THIS LINE\n",
    "\"\"\"\n",
    "loaded_graph = tf.Graph()\n",
    "with tf.Session(graph=loaded_graph) as sess:\n",
    "    # Load saved model\n",
    "    loader = tf.train.import_meta_graph(load_dir + '.meta')\n",
    "    loader.restore(sess, load_dir)\n",
    "\n",
    "    # Get Tensors from loaded model\n",
    "    input_text, initial_state, final_state, probs = get_tensors(loaded_graph)\n",
    "\n",
    "    # Sentences generation setup\n",
    "    gen_sentences = [prime_word + ':']\n",
    "    prev_state = sess.run(initial_state, {input_text: np.array([[1]])})\n",
    "\n",
    "    # Generate sentences\n",
    "    for n in range(gen_length):\n",
    "        # Dynamic Input\n",
    "        dyn_input = [[vocab_to_int[word] for word in gen_sentences[-seq_length:]]]\n",
    "        dyn_seq_length = len(dyn_input[0])\n",
    "\n",
    "        # Get Prediction\n",
    "        probabilities, prev_state = sess.run(\n",
    "            [probs, final_state],\n",
    "            {input_text: dyn_input, initial_state: prev_state})\n",
    "        \n",
    "        pred_word = pick_word(probabilities[:,dyn_seq_length-1,:], int_to_vocab)\n",
    "\n",
    "        gen_sentences.append(pred_word)\n",
    "    \n",
    "    # Remove tokens\n",
    "    tv_script = ' '.join(gen_sentences)\n",
    "    for key, token in token_dict.items():\n",
    "        ending = ' ' if key in ['\\n', '(', '\"'] else ''\n",
    "        tv_script = tv_script.replace(' ' + token.lower(), key)\n",
    "    tv_script = tv_script.replace('\\n ', '\\n')\n",
    "    tv_script = tv_script.replace('( ', '(')\n",
    "        \n",
    "    print(tv_script)"
   ]
  },
  {
   "cell_type": "markdown",
   "metadata": {},
   "source": [
    "# The TV Script is Nonsensical\n",
    "It's ok if the TV script doesn't make any sense.  We trained on less than a megabyte of text.  In order to get good results, you'll have to use a smaller vocabulary or get more data.  Luckly there's more data!  As we mentioned in the begging of this project, this is a subset of [another dataset](https://www.kaggle.com/wcukierski/the-simpsons-by-the-data).  We didn't have you train on all the data, because that would take too long.  However, you are free to train your neural network on all the data.  After you complete the project, of course.\n",
    "# Submitting This Project\n",
    "When submitting this project, make sure to run all the cells before saving the notebook. Save the notebook file as \"dlnd_tv_script_generation.ipynb\" and save it as a HTML file under \"File\" -> \"Download as\". Include the \"helper.py\" and \"problem_unittests.py\" files in your submission."
   ]
  }
 ],
 "metadata": {
  "kernelspec": {
   "display_name": "Python 3",
   "language": "python",
   "name": "python3"
  },
  "language_info": {
   "codemirror_mode": {
    "name": "ipython",
    "version": 3
   },
   "file_extension": ".py",
   "mimetype": "text/x-python",
   "name": "python",
   "nbconvert_exporter": "python",
   "pygments_lexer": "ipython3",
   "version": "3.6.1"
  },
  "widgets": {
   "state": {},
   "version": "1.1.2"
  }
 },
 "nbformat": 4,
 "nbformat_minor": 1
}
